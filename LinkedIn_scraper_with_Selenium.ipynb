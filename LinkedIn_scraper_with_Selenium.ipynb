{
 "cells": [
  {
   "cell_type": "code",
   "execution_count": 1,
   "id": "12abdb50-17a0-4040-969e-faa10389c590",
   "metadata": {},
   "outputs": [
    {
     "name": "stdout",
     "output_type": "stream",
     "text": [
      "Requirement already satisfied: selenium in d:\\anaconda\\lib\\site-packages (4.29.0)\n",
      "Requirement already satisfied: webdriver-manager in d:\\anaconda\\lib\\site-packages (4.0.2)\n",
      "Requirement already satisfied: pandas in d:\\anaconda\\lib\\site-packages (2.2.3)\n",
      "Requirement already satisfied: numpy in d:\\anaconda\\lib\\site-packages (1.26.4)\n",
      "Requirement already satisfied: urllib3<3,>=1.26 in d:\\anaconda\\lib\\site-packages (from urllib3[socks]<3,>=1.26->selenium) (2.2.3)\n",
      "Requirement already satisfied: trio~=0.17 in d:\\anaconda\\lib\\site-packages (from selenium) (0.29.0)\n",
      "Requirement already satisfied: trio-websocket~=0.9 in d:\\anaconda\\lib\\site-packages (from selenium) (0.12.1)\n",
      "Requirement already satisfied: certifi>=2021.10.8 in d:\\anaconda\\lib\\site-packages (from selenium) (2024.8.30)\n",
      "Requirement already satisfied: typing_extensions~=4.9 in d:\\anaconda\\lib\\site-packages (from selenium) (4.11.0)\n",
      "Requirement already satisfied: websocket-client~=1.8 in d:\\anaconda\\lib\\site-packages (from selenium) (1.8.0)\n",
      "Requirement already satisfied: requests in d:\\anaconda\\lib\\site-packages (from webdriver-manager) (2.32.3)\n",
      "Requirement already satisfied: python-dotenv in d:\\anaconda\\lib\\site-packages (from webdriver-manager) (0.21.0)\n",
      "Requirement already satisfied: packaging in d:\\anaconda\\lib\\site-packages (from webdriver-manager) (24.1)\n",
      "Requirement already satisfied: python-dateutil>=2.8.2 in d:\\anaconda\\lib\\site-packages (from pandas) (2.9.0.post0)\n",
      "Requirement already satisfied: pytz>=2020.1 in d:\\anaconda\\lib\\site-packages (from pandas) (2024.1)\n",
      "Requirement already satisfied: tzdata>=2022.7 in d:\\anaconda\\lib\\site-packages (from pandas) (2023.3)\n",
      "Requirement already satisfied: six>=1.5 in d:\\anaconda\\lib\\site-packages (from python-dateutil>=2.8.2->pandas) (1.16.0)\n",
      "Requirement already satisfied: attrs>=23.2.0 in d:\\anaconda\\lib\\site-packages (from trio~=0.17->selenium) (25.1.0)\n",
      "Requirement already satisfied: sortedcontainers in d:\\anaconda\\lib\\site-packages (from trio~=0.17->selenium) (2.4.0)\n",
      "Requirement already satisfied: idna in d:\\anaconda\\lib\\site-packages (from trio~=0.17->selenium) (3.7)\n",
      "Requirement already satisfied: outcome in d:\\anaconda\\lib\\site-packages (from trio~=0.17->selenium) (1.3.0.post0)\n",
      "Requirement already satisfied: sniffio>=1.3.0 in d:\\anaconda\\lib\\site-packages (from trio~=0.17->selenium) (1.3.0)\n",
      "Requirement already satisfied: cffi>=1.14 in d:\\anaconda\\lib\\site-packages (from trio~=0.17->selenium) (1.17.1)\n",
      "Requirement already satisfied: wsproto>=0.14 in d:\\anaconda\\lib\\site-packages (from trio-websocket~=0.9->selenium) (1.2.0)\n",
      "Requirement already satisfied: pysocks!=1.5.7,<2.0,>=1.5.6 in d:\\anaconda\\lib\\site-packages (from urllib3[socks]<3,>=1.26->selenium) (1.7.1)\n",
      "Requirement already satisfied: charset-normalizer<4,>=2 in d:\\anaconda\\lib\\site-packages (from requests->webdriver-manager) (3.3.2)\n",
      "Requirement already satisfied: pycparser in d:\\anaconda\\lib\\site-packages (from cffi>=1.14->trio~=0.17->selenium) (2.21)\n",
      "Requirement already satisfied: h11<1,>=0.9.0 in d:\\anaconda\\lib\\site-packages (from wsproto>=0.14->trio-websocket~=0.9->selenium) (0.14.0)\n",
      "Requirement already satisfied: ipywidgets in d:\\anaconda\\lib\\site-packages (7.8.1)\n",
      "Requirement already satisfied: comm>=0.1.3 in d:\\anaconda\\lib\\site-packages (from ipywidgets) (0.2.1)\n",
      "Requirement already satisfied: ipython-genutils~=0.2.0 in d:\\anaconda\\lib\\site-packages (from ipywidgets) (0.2.0)\n",
      "Requirement already satisfied: traitlets>=4.3.1 in d:\\anaconda\\lib\\site-packages (from ipywidgets) (5.14.3)\n",
      "Requirement already satisfied: widgetsnbextension~=3.6.6 in d:\\anaconda\\lib\\site-packages (from ipywidgets) (3.6.6)\n",
      "Requirement already satisfied: ipython>=4.0.0 in d:\\anaconda\\lib\\site-packages (from ipywidgets) (8.27.0)\n",
      "Requirement already satisfied: jupyterlab-widgets<3,>=1.0.0 in d:\\anaconda\\lib\\site-packages (from ipywidgets) (1.0.0)\n",
      "Requirement already satisfied: decorator in d:\\anaconda\\lib\\site-packages (from ipython>=4.0.0->ipywidgets) (5.1.1)\n",
      "Requirement already satisfied: jedi>=0.16 in d:\\anaconda\\lib\\site-packages (from ipython>=4.0.0->ipywidgets) (0.19.1)\n",
      "Requirement already satisfied: matplotlib-inline in d:\\anaconda\\lib\\site-packages (from ipython>=4.0.0->ipywidgets) (0.1.6)\n",
      "Requirement already satisfied: prompt-toolkit<3.1.0,>=3.0.41 in d:\\anaconda\\lib\\site-packages (from ipython>=4.0.0->ipywidgets) (3.0.43)\n",
      "Requirement already satisfied: pygments>=2.4.0 in d:\\anaconda\\lib\\site-packages (from ipython>=4.0.0->ipywidgets) (2.15.1)\n",
      "Requirement already satisfied: stack-data in d:\\anaconda\\lib\\site-packages (from ipython>=4.0.0->ipywidgets) (0.2.0)\n",
      "Requirement already satisfied: colorama in d:\\anaconda\\lib\\site-packages (from ipython>=4.0.0->ipywidgets) (0.4.6)\n",
      "Requirement already satisfied: notebook>=4.4.1 in d:\\anaconda\\lib\\site-packages (from widgetsnbextension~=3.6.6->ipywidgets) (7.2.2)\n",
      "Requirement already satisfied: parso<0.9.0,>=0.8.3 in d:\\anaconda\\lib\\site-packages (from jedi>=0.16->ipython>=4.0.0->ipywidgets) (0.8.3)\n",
      "Requirement already satisfied: jupyter-server<3,>=2.4.0 in d:\\anaconda\\lib\\site-packages (from notebook>=4.4.1->widgetsnbextension~=3.6.6->ipywidgets) (2.14.1)\n",
      "Requirement already satisfied: jupyterlab-server<3,>=2.27.1 in d:\\anaconda\\lib\\site-packages (from notebook>=4.4.1->widgetsnbextension~=3.6.6->ipywidgets) (2.27.3)\n",
      "Requirement already satisfied: jupyterlab<4.3,>=4.2.0 in d:\\anaconda\\lib\\site-packages (from notebook>=4.4.1->widgetsnbextension~=3.6.6->ipywidgets) (4.2.5)\n",
      "Requirement already satisfied: notebook-shim<0.3,>=0.2 in d:\\anaconda\\lib\\site-packages (from notebook>=4.4.1->widgetsnbextension~=3.6.6->ipywidgets) (0.2.3)\n",
      "Requirement already satisfied: tornado>=6.2.0 in d:\\anaconda\\lib\\site-packages (from notebook>=4.4.1->widgetsnbextension~=3.6.6->ipywidgets) (6.4.1)\n",
      "Requirement already satisfied: wcwidth in d:\\anaconda\\lib\\site-packages (from prompt-toolkit<3.1.0,>=3.0.41->ipython>=4.0.0->ipywidgets) (0.2.5)\n",
      "Requirement already satisfied: executing in d:\\anaconda\\lib\\site-packages (from stack-data->ipython>=4.0.0->ipywidgets) (0.8.3)\n",
      "Requirement already satisfied: asttokens in d:\\anaconda\\lib\\site-packages (from stack-data->ipython>=4.0.0->ipywidgets) (2.0.5)\n",
      "Requirement already satisfied: pure-eval in d:\\anaconda\\lib\\site-packages (from stack-data->ipython>=4.0.0->ipywidgets) (0.2.2)\n",
      "Requirement already satisfied: anyio>=3.1.0 in d:\\anaconda\\lib\\site-packages (from jupyter-server<3,>=2.4.0->notebook>=4.4.1->widgetsnbextension~=3.6.6->ipywidgets) (4.2.0)\n",
      "Requirement already satisfied: argon2-cffi>=21.1 in d:\\anaconda\\lib\\site-packages (from jupyter-server<3,>=2.4.0->notebook>=4.4.1->widgetsnbextension~=3.6.6->ipywidgets) (21.3.0)\n",
      "Requirement already satisfied: jinja2>=3.0.3 in d:\\anaconda\\lib\\site-packages (from jupyter-server<3,>=2.4.0->notebook>=4.4.1->widgetsnbextension~=3.6.6->ipywidgets) (3.1.4)\n",
      "Requirement already satisfied: jupyter-client>=7.4.4 in d:\\anaconda\\lib\\site-packages (from jupyter-server<3,>=2.4.0->notebook>=4.4.1->widgetsnbextension~=3.6.6->ipywidgets) (8.6.0)\n",
      "Requirement already satisfied: jupyter-core!=5.0.*,>=4.12 in d:\\anaconda\\lib\\site-packages (from jupyter-server<3,>=2.4.0->notebook>=4.4.1->widgetsnbextension~=3.6.6->ipywidgets) (5.7.2)\n",
      "Requirement already satisfied: jupyter-events>=0.9.0 in d:\\anaconda\\lib\\site-packages (from jupyter-server<3,>=2.4.0->notebook>=4.4.1->widgetsnbextension~=3.6.6->ipywidgets) (0.10.0)\n",
      "Requirement already satisfied: jupyter-server-terminals>=0.4.4 in d:\\anaconda\\lib\\site-packages (from jupyter-server<3,>=2.4.0->notebook>=4.4.1->widgetsnbextension~=3.6.6->ipywidgets) (0.4.4)\n",
      "Requirement already satisfied: nbconvert>=6.4.4 in d:\\anaconda\\lib\\site-packages (from jupyter-server<3,>=2.4.0->notebook>=4.4.1->widgetsnbextension~=3.6.6->ipywidgets) (7.16.4)\n",
      "Requirement already satisfied: nbformat>=5.3.0 in d:\\anaconda\\lib\\site-packages (from jupyter-server<3,>=2.4.0->notebook>=4.4.1->widgetsnbextension~=3.6.6->ipywidgets) (5.10.4)\n",
      "Requirement already satisfied: overrides>=5.0 in d:\\anaconda\\lib\\site-packages (from jupyter-server<3,>=2.4.0->notebook>=4.4.1->widgetsnbextension~=3.6.6->ipywidgets) (7.4.0)\n",
      "Requirement already satisfied: packaging>=22.0 in d:\\anaconda\\lib\\site-packages (from jupyter-server<3,>=2.4.0->notebook>=4.4.1->widgetsnbextension~=3.6.6->ipywidgets) (24.1)\n",
      "Requirement already satisfied: prometheus-client>=0.9 in d:\\anaconda\\lib\\site-packages (from jupyter-server<3,>=2.4.0->notebook>=4.4.1->widgetsnbextension~=3.6.6->ipywidgets) (0.14.1)\n",
      "Requirement already satisfied: pywinpty>=2.0.1 in d:\\anaconda\\lib\\site-packages (from jupyter-server<3,>=2.4.0->notebook>=4.4.1->widgetsnbextension~=3.6.6->ipywidgets) (2.0.10)\n",
      "Requirement already satisfied: pyzmq>=24 in d:\\anaconda\\lib\\site-packages (from jupyter-server<3,>=2.4.0->notebook>=4.4.1->widgetsnbextension~=3.6.6->ipywidgets) (25.1.2)\n",
      "Requirement already satisfied: send2trash>=1.8.2 in d:\\anaconda\\lib\\site-packages (from jupyter-server<3,>=2.4.0->notebook>=4.4.1->widgetsnbextension~=3.6.6->ipywidgets) (1.8.2)\n",
      "Requirement already satisfied: terminado>=0.8.3 in d:\\anaconda\\lib\\site-packages (from jupyter-server<3,>=2.4.0->notebook>=4.4.1->widgetsnbextension~=3.6.6->ipywidgets) (0.17.1)\n",
      "Requirement already satisfied: websocket-client>=1.7 in d:\\anaconda\\lib\\site-packages (from jupyter-server<3,>=2.4.0->notebook>=4.4.1->widgetsnbextension~=3.6.6->ipywidgets) (1.8.0)\n",
      "Requirement already satisfied: async-lru>=1.0.0 in d:\\anaconda\\lib\\site-packages (from jupyterlab<4.3,>=4.2.0->notebook>=4.4.1->widgetsnbextension~=3.6.6->ipywidgets) (2.0.4)\n",
      "Requirement already satisfied: httpx>=0.25.0 in d:\\anaconda\\lib\\site-packages (from jupyterlab<4.3,>=4.2.0->notebook>=4.4.1->widgetsnbextension~=3.6.6->ipywidgets) (0.27.0)\n",
      "Requirement already satisfied: ipykernel>=6.5.0 in d:\\anaconda\\lib\\site-packages (from jupyterlab<4.3,>=4.2.0->notebook>=4.4.1->widgetsnbextension~=3.6.6->ipywidgets) (6.28.0)\n",
      "Requirement already satisfied: jupyter-lsp>=2.0.0 in d:\\anaconda\\lib\\site-packages (from jupyterlab<4.3,>=4.2.0->notebook>=4.4.1->widgetsnbextension~=3.6.6->ipywidgets) (2.2.0)\n",
      "Requirement already satisfied: setuptools>=40.1.0 in d:\\anaconda\\lib\\site-packages (from jupyterlab<4.3,>=4.2.0->notebook>=4.4.1->widgetsnbextension~=3.6.6->ipywidgets) (75.1.0)\n",
      "Requirement already satisfied: babel>=2.10 in d:\\anaconda\\lib\\site-packages (from jupyterlab-server<3,>=2.27.1->notebook>=4.4.1->widgetsnbextension~=3.6.6->ipywidgets) (2.11.0)\n",
      "Requirement already satisfied: json5>=0.9.0 in d:\\anaconda\\lib\\site-packages (from jupyterlab-server<3,>=2.27.1->notebook>=4.4.1->widgetsnbextension~=3.6.6->ipywidgets) (0.9.6)\n",
      "Requirement already satisfied: jsonschema>=4.18.0 in d:\\anaconda\\lib\\site-packages (from jupyterlab-server<3,>=2.27.1->notebook>=4.4.1->widgetsnbextension~=3.6.6->ipywidgets) (4.23.0)\n",
      "Requirement already satisfied: requests>=2.31 in d:\\anaconda\\lib\\site-packages (from jupyterlab-server<3,>=2.27.1->notebook>=4.4.1->widgetsnbextension~=3.6.6->ipywidgets) (2.32.3)\n",
      "Requirement already satisfied: six in d:\\anaconda\\lib\\site-packages (from asttokens->stack-data->ipython>=4.0.0->ipywidgets) (1.16.0)\n",
      "Requirement already satisfied: idna>=2.8 in d:\\anaconda\\lib\\site-packages (from anyio>=3.1.0->jupyter-server<3,>=2.4.0->notebook>=4.4.1->widgetsnbextension~=3.6.6->ipywidgets) (3.7)\n",
      "Requirement already satisfied: sniffio>=1.1 in d:\\anaconda\\lib\\site-packages (from anyio>=3.1.0->jupyter-server<3,>=2.4.0->notebook>=4.4.1->widgetsnbextension~=3.6.6->ipywidgets) (1.3.0)\n",
      "Requirement already satisfied: argon2-cffi-bindings in d:\\anaconda\\lib\\site-packages (from argon2-cffi>=21.1->jupyter-server<3,>=2.4.0->notebook>=4.4.1->widgetsnbextension~=3.6.6->ipywidgets) (21.2.0)\n",
      "Requirement already satisfied: pytz>=2015.7 in d:\\anaconda\\lib\\site-packages (from babel>=2.10->jupyterlab-server<3,>=2.27.1->notebook>=4.4.1->widgetsnbextension~=3.6.6->ipywidgets) (2024.1)\n",
      "Requirement already satisfied: certifi in d:\\anaconda\\lib\\site-packages (from httpx>=0.25.0->jupyterlab<4.3,>=4.2.0->notebook>=4.4.1->widgetsnbextension~=3.6.6->ipywidgets) (2024.8.30)\n",
      "Requirement already satisfied: httpcore==1.* in d:\\anaconda\\lib\\site-packages (from httpx>=0.25.0->jupyterlab<4.3,>=4.2.0->notebook>=4.4.1->widgetsnbextension~=3.6.6->ipywidgets) (1.0.2)\n",
      "Requirement already satisfied: h11<0.15,>=0.13 in d:\\anaconda\\lib\\site-packages (from httpcore==1.*->httpx>=0.25.0->jupyterlab<4.3,>=4.2.0->notebook>=4.4.1->widgetsnbextension~=3.6.6->ipywidgets) (0.14.0)\n",
      "Requirement already satisfied: debugpy>=1.6.5 in d:\\anaconda\\lib\\site-packages (from ipykernel>=6.5.0->jupyterlab<4.3,>=4.2.0->notebook>=4.4.1->widgetsnbextension~=3.6.6->ipywidgets) (1.6.7)\n",
      "Requirement already satisfied: nest-asyncio in d:\\anaconda\\lib\\site-packages (from ipykernel>=6.5.0->jupyterlab<4.3,>=4.2.0->notebook>=4.4.1->widgetsnbextension~=3.6.6->ipywidgets) (1.6.0)\n",
      "Requirement already satisfied: psutil in d:\\anaconda\\lib\\site-packages (from ipykernel>=6.5.0->jupyterlab<4.3,>=4.2.0->notebook>=4.4.1->widgetsnbextension~=3.6.6->ipywidgets) (5.9.0)\n",
      "Requirement already satisfied: MarkupSafe>=2.0 in d:\\anaconda\\lib\\site-packages (from jinja2>=3.0.3->jupyter-server<3,>=2.4.0->notebook>=4.4.1->widgetsnbextension~=3.6.6->ipywidgets) (2.1.3)\n",
      "Requirement already satisfied: attrs>=22.2.0 in d:\\anaconda\\lib\\site-packages (from jsonschema>=4.18.0->jupyterlab-server<3,>=2.27.1->notebook>=4.4.1->widgetsnbextension~=3.6.6->ipywidgets) (25.1.0)\n",
      "Requirement already satisfied: jsonschema-specifications>=2023.03.6 in d:\\anaconda\\lib\\site-packages (from jsonschema>=4.18.0->jupyterlab-server<3,>=2.27.1->notebook>=4.4.1->widgetsnbextension~=3.6.6->ipywidgets) (2023.7.1)\n",
      "Requirement already satisfied: referencing>=0.28.4 in d:\\anaconda\\lib\\site-packages (from jsonschema>=4.18.0->jupyterlab-server<3,>=2.27.1->notebook>=4.4.1->widgetsnbextension~=3.6.6->ipywidgets) (0.30.2)\n",
      "Requirement already satisfied: rpds-py>=0.7.1 in d:\\anaconda\\lib\\site-packages (from jsonschema>=4.18.0->jupyterlab-server<3,>=2.27.1->notebook>=4.4.1->widgetsnbextension~=3.6.6->ipywidgets) (0.10.6)\n",
      "Requirement already satisfied: python-dateutil>=2.8.2 in d:\\anaconda\\lib\\site-packages (from jupyter-client>=7.4.4->jupyter-server<3,>=2.4.0->notebook>=4.4.1->widgetsnbextension~=3.6.6->ipywidgets) (2.9.0.post0)\n",
      "Requirement already satisfied: platformdirs>=2.5 in d:\\anaconda\\lib\\site-packages (from jupyter-core!=5.0.*,>=4.12->jupyter-server<3,>=2.4.0->notebook>=4.4.1->widgetsnbextension~=3.6.6->ipywidgets) (3.10.0)\n",
      "Requirement already satisfied: pywin32>=300 in d:\\anaconda\\lib\\site-packages (from jupyter-core!=5.0.*,>=4.12->jupyter-server<3,>=2.4.0->notebook>=4.4.1->widgetsnbextension~=3.6.6->ipywidgets) (305.1)\n",
      "Requirement already satisfied: python-json-logger>=2.0.4 in d:\\anaconda\\lib\\site-packages (from jupyter-events>=0.9.0->jupyter-server<3,>=2.4.0->notebook>=4.4.1->widgetsnbextension~=3.6.6->ipywidgets) (2.0.7)\n",
      "Requirement already satisfied: pyyaml>=5.3 in d:\\anaconda\\lib\\site-packages (from jupyter-events>=0.9.0->jupyter-server<3,>=2.4.0->notebook>=4.4.1->widgetsnbextension~=3.6.6->ipywidgets) (6.0.1)\n",
      "Requirement already satisfied: rfc3339-validator in d:\\anaconda\\lib\\site-packages (from jupyter-events>=0.9.0->jupyter-server<3,>=2.4.0->notebook>=4.4.1->widgetsnbextension~=3.6.6->ipywidgets) (0.1.4)\n",
      "Requirement already satisfied: rfc3986-validator>=0.1.1 in d:\\anaconda\\lib\\site-packages (from jupyter-events>=0.9.0->jupyter-server<3,>=2.4.0->notebook>=4.4.1->widgetsnbextension~=3.6.6->ipywidgets) (0.1.1)\n",
      "Requirement already satisfied: beautifulsoup4 in d:\\anaconda\\lib\\site-packages (from nbconvert>=6.4.4->jupyter-server<3,>=2.4.0->notebook>=4.4.1->widgetsnbextension~=3.6.6->ipywidgets) (4.12.3)\n",
      "Requirement already satisfied: bleach!=5.0.0 in d:\\anaconda\\lib\\site-packages (from nbconvert>=6.4.4->jupyter-server<3,>=2.4.0->notebook>=4.4.1->widgetsnbextension~=3.6.6->ipywidgets) (4.1.0)\n",
      "Requirement already satisfied: defusedxml in d:\\anaconda\\lib\\site-packages (from nbconvert>=6.4.4->jupyter-server<3,>=2.4.0->notebook>=4.4.1->widgetsnbextension~=3.6.6->ipywidgets) (0.7.1)\n",
      "Requirement already satisfied: jupyterlab-pygments in d:\\anaconda\\lib\\site-packages (from nbconvert>=6.4.4->jupyter-server<3,>=2.4.0->notebook>=4.4.1->widgetsnbextension~=3.6.6->ipywidgets) (0.1.2)\n",
      "Requirement already satisfied: mistune<4,>=2.0.3 in d:\\anaconda\\lib\\site-packages (from nbconvert>=6.4.4->jupyter-server<3,>=2.4.0->notebook>=4.4.1->widgetsnbextension~=3.6.6->ipywidgets) (2.0.4)\n",
      "Requirement already satisfied: nbclient>=0.5.0 in d:\\anaconda\\lib\\site-packages (from nbconvert>=6.4.4->jupyter-server<3,>=2.4.0->notebook>=4.4.1->widgetsnbextension~=3.6.6->ipywidgets) (0.8.0)\n",
      "Requirement already satisfied: pandocfilters>=1.4.1 in d:\\anaconda\\lib\\site-packages (from nbconvert>=6.4.4->jupyter-server<3,>=2.4.0->notebook>=4.4.1->widgetsnbextension~=3.6.6->ipywidgets) (1.5.0)\n",
      "Requirement already satisfied: tinycss2 in d:\\anaconda\\lib\\site-packages (from nbconvert>=6.4.4->jupyter-server<3,>=2.4.0->notebook>=4.4.1->widgetsnbextension~=3.6.6->ipywidgets) (1.2.1)\n",
      "Requirement already satisfied: fastjsonschema>=2.15 in d:\\anaconda\\lib\\site-packages (from nbformat>=5.3.0->jupyter-server<3,>=2.4.0->notebook>=4.4.1->widgetsnbextension~=3.6.6->ipywidgets) (2.16.2)\n",
      "Requirement already satisfied: charset-normalizer<4,>=2 in d:\\anaconda\\lib\\site-packages (from requests>=2.31->jupyterlab-server<3,>=2.27.1->notebook>=4.4.1->widgetsnbextension~=3.6.6->ipywidgets) (3.3.2)\n",
      "Requirement already satisfied: urllib3<3,>=1.21.1 in d:\\anaconda\\lib\\site-packages (from requests>=2.31->jupyterlab-server<3,>=2.27.1->notebook>=4.4.1->widgetsnbextension~=3.6.6->ipywidgets) (2.2.3)\n",
      "Requirement already satisfied: webencodings in d:\\anaconda\\lib\\site-packages (from bleach!=5.0.0->nbconvert>=6.4.4->jupyter-server<3,>=2.4.0->notebook>=4.4.1->widgetsnbextension~=3.6.6->ipywidgets) (0.5.1)\n",
      "Requirement already satisfied: fqdn in d:\\anaconda\\lib\\site-packages (from jsonschema[format-nongpl]>=4.18.0->jupyter-events>=0.9.0->jupyter-server<3,>=2.4.0->notebook>=4.4.1->widgetsnbextension~=3.6.6->ipywidgets) (1.5.1)\n",
      "Requirement already satisfied: isoduration in d:\\anaconda\\lib\\site-packages (from jsonschema[format-nongpl]>=4.18.0->jupyter-events>=0.9.0->jupyter-server<3,>=2.4.0->notebook>=4.4.1->widgetsnbextension~=3.6.6->ipywidgets) (20.11.0)\n",
      "Requirement already satisfied: jsonpointer>1.13 in d:\\anaconda\\lib\\site-packages (from jsonschema[format-nongpl]>=4.18.0->jupyter-events>=0.9.0->jupyter-server<3,>=2.4.0->notebook>=4.4.1->widgetsnbextension~=3.6.6->ipywidgets) (2.1)\n",
      "Requirement already satisfied: uri-template in d:\\anaconda\\lib\\site-packages (from jsonschema[format-nongpl]>=4.18.0->jupyter-events>=0.9.0->jupyter-server<3,>=2.4.0->notebook>=4.4.1->widgetsnbextension~=3.6.6->ipywidgets) (1.3.0)\n",
      "Requirement already satisfied: webcolors>=24.6.0 in d:\\anaconda\\lib\\site-packages (from jsonschema[format-nongpl]>=4.18.0->jupyter-events>=0.9.0->jupyter-server<3,>=2.4.0->notebook>=4.4.1->widgetsnbextension~=3.6.6->ipywidgets) (24.11.1)\n",
      "Requirement already satisfied: cffi>=1.0.1 in d:\\anaconda\\lib\\site-packages (from argon2-cffi-bindings->argon2-cffi>=21.1->jupyter-server<3,>=2.4.0->notebook>=4.4.1->widgetsnbextension~=3.6.6->ipywidgets) (1.17.1)\n",
      "Requirement already satisfied: soupsieve>1.2 in d:\\anaconda\\lib\\site-packages (from beautifulsoup4->nbconvert>=6.4.4->jupyter-server<3,>=2.4.0->notebook>=4.4.1->widgetsnbextension~=3.6.6->ipywidgets) (2.5)\n",
      "Requirement already satisfied: pycparser in d:\\anaconda\\lib\\site-packages (from cffi>=1.0.1->argon2-cffi-bindings->argon2-cffi>=21.1->jupyter-server<3,>=2.4.0->notebook>=4.4.1->widgetsnbextension~=3.6.6->ipywidgets) (2.21)\n",
      "Requirement already satisfied: arrow>=0.15.0 in d:\\anaconda\\lib\\site-packages (from isoduration->jsonschema[format-nongpl]>=4.18.0->jupyter-events>=0.9.0->jupyter-server<3,>=2.4.0->notebook>=4.4.1->widgetsnbextension~=3.6.6->ipywidgets) (1.2.3)\n"
     ]
    }
   ],
   "source": [
    "!pip install selenium webdriver-manager pandas numpy\n",
    "!pip install ipywidgets"
   ]
  },
  {
   "cell_type": "code",
   "execution_count": 2,
   "id": "cd9e92b0-1d3f-4581-a956-6271d3e644b2",
   "metadata": {},
   "outputs": [],
   "source": [
    "import time\n",
    "import numpy as np\n",
    "import pandas as pd\n",
    "from selenium import webdriver\n",
    "from selenium.webdriver.common.by import By\n",
    "from selenium.webdriver.common.keys import Keys\n",
    "import warnings\n",
    "warnings.filterwarnings('ignore')"
   ]
  },
  {
   "cell_type": "code",
   "execution_count": 3,
   "id": "39e81a7e-5f27-4213-a390-98e0d7bc957c",
   "metadata": {},
   "outputs": [
    {
     "name": "stdin",
     "output_type": "stream",
     "text": [
      "Enter Job Titles (with comma separated): data, scientist, artificial, intelligence, ai, software, developer\n"
     ]
    },
    {
     "name": "stdout",
     "output_type": "stream",
     "text": [
      "['data,', 'scientist,', 'artificial,', 'intelligence,', 'ai,', 'software,', 'developer']\n"
     ]
    }
   ],
   "source": [
    "user_input_job_title = input('Enter Job Titles (with comma separated):').split()\n",
    "print(user_input_job_title)"
   ]
  },
  {
   "cell_type": "code",
   "execution_count": 4,
   "id": "1d312c7a-03f5-4950-8c81-de5390957c1b",
   "metadata": {},
   "outputs": [
    {
     "name": "stdout",
     "output_type": "stream",
     "text": [
      "['data,', 'scientist,', 'artificial,', 'intelligence,', 'ai,', 'software,', 'developer']\n"
     ]
    }
   ],
   "source": [
    "print(user_input_job_title)"
   ]
  },
  {
   "cell_type": "code",
   "execution_count": 48,
   "id": "536d91ea-30ac-4fba-a89e-b0ed662635c1",
   "metadata": {},
   "outputs": [
    {
     "name": "stdout",
     "output_type": "stream",
     "text": [
      "data,%2C%20scientist,%2C%20artificial,%2C%20intelligence,%2C%20ai,%2C%20software,%2C%20developer\n"
     ]
    }
   ],
   "source": [
    "b = []\n",
    "for i in user_input_job_title:\n",
    "    x = i.split()\n",
    "    y = '%20'.join(x)\n",
    "    b.append(y)\n",
    "\n",
    "job_title = '%2C%20'.join(b)\n",
    "print(job_title)"
   ]
  },
  {
   "cell_type": "code",
   "execution_count": 49,
   "id": "590bca8b-3760-447c-a626-f9e8599c98ee",
   "metadata": {},
   "outputs": [
    {
     "name": "stdout",
     "output_type": "stream",
     "text": [
      "https://in.linkedin.com/jobs/search?keywords=data,%2C%20scientist,%2C%20artificial,%2C%20intelligence,%2C%20ai,%2C%20software,%2C%20developer&location=India&locationId=&geoId=102713980&f_TPR=r604800&position=1&pageNum=0\n"
     ]
    }
   ],
   "source": [
    "link = f\"https://in.linkedin.com/jobs/search?keywords={job_title}&location=India&locationId=&geoId=102713980&f_TPR=r604800&position=1&pageNum=0\"\n",
    "print(link)"
   ]
  },
  {
   "cell_type": "code",
   "execution_count": 80,
   "id": "ae8990d9-e467-471b-9afb-6b4553c17bbe",
   "metadata": {},
   "outputs": [
    {
     "name": "stdout",
     "output_type": "stream",
     "text": [
      "✅ Logged in and job page loaded.\n"
     ]
    }
   ],
   "source": [
    "driver = webdriver.Chrome()\n",
    "driver.maximize_window()\n",
    "\n",
    "driver.get(link)\n",
    "driver.implicitly_wait(10)\n",
    "\n",
    "from selenium import webdriver\n",
    "from selenium.webdriver.chrome.service import Service\n",
    "from selenium.webdriver.common.by import By\n",
    "from selenium.webdriver.common.keys import Keys\n",
    "from webdriver_manager.chrome import ChromeDriverManager\n",
    "import time\n",
    "\n",
    "# Replace these with your actual credentials\n",
    "linkedin_email = \"kunal@gmail.com\"\n",
    "linkedin_password = \"12345678\"\n",
    "\n",
    "# Start Chrome browser\n",
    "driver = webdriver.Chrome(service=Service(ChromeDriverManager().install()))\n",
    "driver.maximize_window()\n",
    "\n",
    "# Step 1: Go to LinkedIn login page\n",
    "driver.get(\"https://www.linkedin.com/login\")\n",
    "driver.implicitly_wait(10)\n",
    "\n",
    "# Step 2: Enter login credentials\n",
    "email_input = driver.find_element(By.ID, \"username\")\n",
    "email_input.send_keys(linkedin_email)\n",
    "\n",
    "password_input = driver.find_element(By.ID, \"password\")\n",
    "password_input.send_keys(linkedin_password)\n",
    "\n",
    "# Step 3: Submit the login form\n",
    "password_input.send_keys(Keys.RETURN)\n",
    "time.sleep(5)\n",
    "\n",
    "driver.get(link)\n",
    "driver.implicitly_wait(10)\n",
    "print(\"Logged in and job page loaded.\")\n"
   ]
  },
  {
   "cell_type": "code",
   "execution_count": 88,
   "id": "e76e4ba6-905a-415e-ac1b-3e10b2643a88",
   "metadata": {},
   "outputs": [],
   "source": [
    "for i in range(0,2):\n",
    "    driver.execute_script(\"window.scrollTo(0, document.body.scrollHeight);\")\n",
    "    time.sleep(5)\n",
    "\n",
    "    try:\n",
    "        x = driver.find_element(by=By.CSS_SELECTOR, value=\"button[aria-label='See more jobs']\").click()\n",
    "        time.sleep(3)\n",
    "    except:\n",
    "        pass"
   ]
  },
  {
   "cell_type": "code",
   "execution_count": 89,
   "id": "90c56820-1d35-49d7-8ddf-e18593b27235",
   "metadata": {},
   "outputs": [
    {
     "name": "stdout",
     "output_type": "stream",
     "text": [
      "[]\n"
     ]
    }
   ],
   "source": [
    "company_name = []\n",
    "\n",
    "try:\n",
    "    company = driver.find_elements(by=By.CSS_SELECTOR, value='h4[class=\"base-search-card__subtitle\"]')\n",
    "    for i in company:\n",
    "        company_name.append(i.text)\n",
    "\n",
    "except:\n",
    "    pass\n",
    "\n",
    "print(company_name)"
   ]
  },
  {
   "cell_type": "code",
   "execution_count": 90,
   "id": "437665f4-542c-41c2-b354-bcbd86f1b74d",
   "metadata": {},
   "outputs": [
    {
     "name": "stdout",
     "output_type": "stream",
     "text": [
      "[]\n"
     ]
    }
   ],
   "source": [
    "job_title = []\n",
    "\n",
    "try:\n",
    "    title = driver.find_elements(by=By.CSS_SELECTOR, value='h3[class=\"base-search-card__title\"]')\n",
    "    for i in title:\n",
    "        job_title.append(i.text)\n",
    "\n",
    "except:\n",
    "    pass\n",
    "\n",
    "print(job_title)"
   ]
  },
  {
   "cell_type": "code",
   "execution_count": 91,
   "id": "c283c890-befd-4e53-b193-4f660a779100",
   "metadata": {},
   "outputs": [
    {
     "name": "stdout",
     "output_type": "stream",
     "text": [
      "[]\n"
     ]
    }
   ],
   "source": [
    "company_location = []\n",
    "\n",
    "try:\n",
    "    location = driver.find_elements(by=By.CSS_SELECTOR, value='span[class=\"job-search-card__location\"]')\n",
    "    for i in location:\n",
    "        company_location.append(i.text)\n",
    "\n",
    "except:\n",
    "    pass\n",
    "\n",
    "print(company_location)"
   ]
  },
  {
   "cell_type": "code",
   "execution_count": 92,
   "id": "1def4ea5-231a-4880-88ca-476b99c817c2",
   "metadata": {},
   "outputs": [
    {
     "name": "stdout",
     "output_type": "stream",
     "text": [
      "['https://www.linkedin.com/jobs/?', 'https://www.linkedin.com/jobs/view/4259295179/?eBP=BUDGET_EXHAUSTED_JOB&refId=urjZ%2BAZbN9kb%2Bb8bubc5wQ%3D%3D&trackingId=rPGIGLvqFRofCCdZ5cNwEA%3D%3D&trk=flagship3_search_srp_jobs', 'https://www.linkedin.com/jobs/view/4256717548/?eBP=CwEAAAGXwDjJnliyHQkPm2_i6FKuoPlySaWYjl5C1v8jbguG6g3vdKTfHuPvbFn7hf-WynW07jN8zQJIIgHosC5-QE8RFwuUBA0xy3fSOoGu2k1pq9f8cOPeY_cwlXShJotmn7_iEFJNJZn956WmONIXgfIGVVKjmzPu2fdOZ1YEOX9nYQaJYpqZUzmVuoXdfuRFfjCcryDMqU8IGnBukq0bKQPJhOevl8NlGOECxVrXp6bVKOJ2GAj2dCIONEUVX4I5GrgkclTefnNhtqqf5YAdGTQlLsjOlmnUwj2ihJ3b-WN4qnZoBp0huUFEpjVcvnifa_SRgSzmMWCBEkTom5JjppFZG6jfdGLd21624qfkdwMOGfk5-1fyqSg4BFWe37KdwfOvk8KQQeH470Ngjte_iqpJNmfMRpoNoSnxX2DL6X2qsB0J2QfMfSBnK8GWqk2gW-YF7ZiL-YY6TavdbkGMpXM7qz4Ij2BWt7ErEexwmf9YjHIWU3cIhcaC5cFrgt7SVLw2jYnznEWBwh2B8l8L4w&refId=urjZ%2BAZbN9kb%2Bb8bubc5wQ%3D%3D&trackingId=%2FPOpekTmiV4WLn0WHXT6Vw%3D%3D&trk=flagship3_search_srp_jobs', 'https://www.linkedin.com/jobs/view/4257908167/?eBP=BUDGET_EXHAUSTED_JOB&refId=urjZ%2BAZbN9kb%2Bb8bubc5wQ%3D%3D&trackingId=FKFLu2KlH5WcaqygpelFNA%3D%3D&trk=flagship3_search_srp_jobs', 'https://www.linkedin.com/jobs/view/4259298870/?eBP=BUDGET_EXHAUSTED_JOB&refId=urjZ%2BAZbN9kb%2Bb8bubc5wQ%3D%3D&trackingId=v044mrbjEnQi1IsFlOaGtg%3D%3D&trk=flagship3_search_srp_jobs', 'https://www.linkedin.com/jobs/view/3994570641/?eBP=CwEAAAGXwDjJnhlqbtzAppffllx8sbmZotW_fHHRwftVdjTO92bDoNlHpa49dnXmzNGN3jI44L7_XRkJGv_uIvP3Ue76YBsw9uufreau3nRku5GxAlPSn_DyxRw0rj3Dz_MS-of4IvAB1T_PXogTunFboSo3DjQ6yv7o36m595_V6fgKajit6q9KQWd-6oZHHgDRqujqR1FRX69Fwj1-zwtB16r9PwsvTJiBBQtQW8PUoEzWho2FZwtUPm1iTOsxk829ClTbZ430ohUKXrjU03t0XAsuGd3BduFzXFCl7-uzm18kYVCFrUGNgdnguQ-R9brjpy3m1rBNTnnx9y_WFIAhIQHtgVNjSZV2_CCwRcnBSht1iw63WkRSgVYQ1iofnXW3yiec0TmPs2EPpy3ek4GHSzvythoEIzHnq1YBnocN9Clm21ryFuTNKNVYma-ZdRuS8KtyhTxKLRbuDPLh_JmZr_CRJGQUx0obiSjCCkK8vjfVyaLcYxyOHzM3CvAvia5_J3NhfWS7UMz9A9GuFt13blVl&refId=urjZ%2BAZbN9kb%2Bb8bubc5wQ%3D%3D&trackingId=OLGITu279PLb%2FfbQx10%2B4Q%3D%3D&trk=flagship3_search_srp_jobs', 'https://www.linkedin.com/jobs/view/4259285541/?eBP=BUDGET_EXHAUSTED_JOB&refId=urjZ%2BAZbN9kb%2Bb8bubc5wQ%3D%3D&trackingId=ohrSCnHilnBaYsZX21NFLg%3D%3D&trk=flagship3_search_srp_jobs', 'https://www.linkedin.com/jobs/view/4259092885/?eBP=NOT_ELIGIBLE_FOR_CHARGING&refId=urjZ%2BAZbN9kb%2Bb8bubc5wQ%3D%3D&trackingId=RfrGzLheuPfQYy8RH%2BgRcw%3D%3D&trk=flagship3_search_srp_jobs', 'https://www.linkedin.com/jobs/view/4259295179/?alternateChannel=search&eBP=BUDGET_EXHAUSTED_JOB&refId=urjZ%2BAZbN9kb%2Bb8bubc5wQ%3D%3D&trackingId=rPGIGLvqFRofCCdZ5cNwEA%3D%3D&trk=d_flagship3_search_srp_jobs', 'https://www.linkedin.com/jobs/view/4259295179/?alternateChannel=search&refId=urjZ%2BAZbN9kb%2Bb8bubc5wQ%3D%3D&trackingId=rPGIGLvqFRofCCdZ5cNwEA%3D%3D&trk=d_flagship3_search_srp_jobs']\n"
     ]
    }
   ],
   "source": [
    "job_url = []\n",
    "\n",
    "try:\n",
    "    url = driver.find_elements(by=By.XPATH, value='//a[contains(@href, \"/jobs/\")]')\n",
    "    for i in url:\n",
    "        job_url.append(i.get_attribute('href'))\n",
    "\n",
    "except:\n",
    "    pass\n",
    "\n",
    "print(job_url)"
   ]
  },
  {
   "cell_type": "code",
   "execution_count": 94,
   "id": "ec7e3ae6-dc0e-469a-9809-b24b1e411ff4",
   "metadata": {},
   "outputs": [
    {
     "data": {
      "text/html": [
       "<div>\n",
       "<style scoped>\n",
       "    .dataframe tbody tr th:only-of-type {\n",
       "        vertical-align: middle;\n",
       "    }\n",
       "\n",
       "    .dataframe tbody tr th {\n",
       "        vertical-align: top;\n",
       "    }\n",
       "\n",
       "    .dataframe thead th {\n",
       "        text-align: right;\n",
       "    }\n",
       "</style>\n",
       "<table border=\"1\" class=\"dataframe\">\n",
       "  <thead>\n",
       "    <tr style=\"text-align: right;\">\n",
       "      <th></th>\n",
       "      <th>Company Name</th>\n",
       "      <th>Job Title</th>\n",
       "      <th>Location</th>\n",
       "      <th>Website URL</th>\n",
       "    </tr>\n",
       "  </thead>\n",
       "  <tbody>\n",
       "    <tr>\n",
       "      <th>0</th>\n",
       "      <td>NaN</td>\n",
       "      <td>NaN</td>\n",
       "      <td>NaN</td>\n",
       "      <td>https://www.linkedin.com/jobs/?</td>\n",
       "    </tr>\n",
       "    <tr>\n",
       "      <th>1</th>\n",
       "      <td>NaN</td>\n",
       "      <td>NaN</td>\n",
       "      <td>NaN</td>\n",
       "      <td>https://www.linkedin.com/jobs/view/4259295179/...</td>\n",
       "    </tr>\n",
       "    <tr>\n",
       "      <th>2</th>\n",
       "      <td>NaN</td>\n",
       "      <td>NaN</td>\n",
       "      <td>NaN</td>\n",
       "      <td>https://www.linkedin.com/jobs/view/4256717548/...</td>\n",
       "    </tr>\n",
       "    <tr>\n",
       "      <th>3</th>\n",
       "      <td>NaN</td>\n",
       "      <td>NaN</td>\n",
       "      <td>NaN</td>\n",
       "      <td>https://www.linkedin.com/jobs/view/4257908167/...</td>\n",
       "    </tr>\n",
       "    <tr>\n",
       "      <th>4</th>\n",
       "      <td>NaN</td>\n",
       "      <td>NaN</td>\n",
       "      <td>NaN</td>\n",
       "      <td>https://www.linkedin.com/jobs/view/4259298870/...</td>\n",
       "    </tr>\n",
       "    <tr>\n",
       "      <th>5</th>\n",
       "      <td>NaN</td>\n",
       "      <td>NaN</td>\n",
       "      <td>NaN</td>\n",
       "      <td>https://www.linkedin.com/jobs/view/3994570641/...</td>\n",
       "    </tr>\n",
       "    <tr>\n",
       "      <th>6</th>\n",
       "      <td>NaN</td>\n",
       "      <td>NaN</td>\n",
       "      <td>NaN</td>\n",
       "      <td>https://www.linkedin.com/jobs/view/4259285541/...</td>\n",
       "    </tr>\n",
       "    <tr>\n",
       "      <th>7</th>\n",
       "      <td>NaN</td>\n",
       "      <td>NaN</td>\n",
       "      <td>NaN</td>\n",
       "      <td>https://www.linkedin.com/jobs/view/4259092885/...</td>\n",
       "    </tr>\n",
       "    <tr>\n",
       "      <th>8</th>\n",
       "      <td>NaN</td>\n",
       "      <td>NaN</td>\n",
       "      <td>NaN</td>\n",
       "      <td>https://www.linkedin.com/jobs/view/4259295179/...</td>\n",
       "    </tr>\n",
       "    <tr>\n",
       "      <th>9</th>\n",
       "      <td>NaN</td>\n",
       "      <td>NaN</td>\n",
       "      <td>NaN</td>\n",
       "      <td>https://www.linkedin.com/jobs/view/4259295179/...</td>\n",
       "    </tr>\n",
       "  </tbody>\n",
       "</table>\n",
       "</div>"
      ],
      "text/plain": [
       "  Company Name  Job Title  Location  \\\n",
       "0          NaN        NaN       NaN   \n",
       "1          NaN        NaN       NaN   \n",
       "2          NaN        NaN       NaN   \n",
       "3          NaN        NaN       NaN   \n",
       "4          NaN        NaN       NaN   \n",
       "5          NaN        NaN       NaN   \n",
       "6          NaN        NaN       NaN   \n",
       "7          NaN        NaN       NaN   \n",
       "8          NaN        NaN       NaN   \n",
       "9          NaN        NaN       NaN   \n",
       "\n",
       "                                         Website URL  \n",
       "0                    https://www.linkedin.com/jobs/?  \n",
       "1  https://www.linkedin.com/jobs/view/4259295179/...  \n",
       "2  https://www.linkedin.com/jobs/view/4256717548/...  \n",
       "3  https://www.linkedin.com/jobs/view/4257908167/...  \n",
       "4  https://www.linkedin.com/jobs/view/4259298870/...  \n",
       "5  https://www.linkedin.com/jobs/view/3994570641/...  \n",
       "6  https://www.linkedin.com/jobs/view/4259285541/...  \n",
       "7  https://www.linkedin.com/jobs/view/4259092885/...  \n",
       "8  https://www.linkedin.com/jobs/view/4259295179/...  \n",
       "9  https://www.linkedin.com/jobs/view/4259295179/...  "
      ]
     },
     "execution_count": 94,
     "metadata": {},
     "output_type": "execute_result"
    }
   ],
   "source": [
    "df = pd.DataFrame(company_name, columns=['Company Name'])\n",
    "df['Job Title'] = job_title  # assign list directly, not DataFrame\n",
    "df['Location'] = company_location\n",
    "df['Website URL'] = job_url\n",
    "df\n"
   ]
  },
  {
   "cell_type": "code",
   "execution_count": 97,
   "id": "39ecf765-006e-4062-80e2-bf4949df4fda",
   "metadata": {},
   "outputs": [],
   "source": [
    "def job_title_filter(x, user_input_job_title):\n",
    "    if pd.isnull(x):\n",
    "        return None\n",
    "\n",
    "    suggestion = []\n",
    "    for i in user_input_job_title:\n",
    "        suggestion.extend(i.strip().lower().split())\n",
    "\n",
    "    s = x.split()\n",
    "    a = [i.lower() for i in s]\n",
    "\n",
    "    intersection = list(set(suggestion).intersection(set(a)))\n",
    "    if len(intersection) > 0:\n",
    "        return x\n",
    "    else:\n",
    "        return None\n"
   ]
  },
  {
   "cell_type": "code",
   "execution_count": 98,
   "id": "9a4ad739-8a83-49f5-b144-f1c67a168fac",
   "metadata": {},
   "outputs": [
    {
     "data": {
      "text/html": [
       "<div>\n",
       "<style scoped>\n",
       "    .dataframe tbody tr th:only-of-type {\n",
       "        vertical-align: middle;\n",
       "    }\n",
       "\n",
       "    .dataframe tbody tr th {\n",
       "        vertical-align: top;\n",
       "    }\n",
       "\n",
       "    .dataframe thead th {\n",
       "        text-align: right;\n",
       "    }\n",
       "</style>\n",
       "<table border=\"1\" class=\"dataframe\">\n",
       "  <thead>\n",
       "    <tr style=\"text-align: right;\">\n",
       "      <th></th>\n",
       "      <th>Company Name</th>\n",
       "      <th>Job Title</th>\n",
       "      <th>Location</th>\n",
       "      <th>Website URL</th>\n",
       "    </tr>\n",
       "  </thead>\n",
       "  <tbody>\n",
       "  </tbody>\n",
       "</table>\n",
       "</div>"
      ],
      "text/plain": [
       "Empty DataFrame\n",
       "Columns: [Company Name, Job Title, Location, Website URL]\n",
       "Index: []"
      ]
     },
     "execution_count": 98,
     "metadata": {},
     "output_type": "execute_result"
    }
   ],
   "source": [
    "df['Job Title'] = df['Job Title'].apply(lambda x: job_title_filter(x, user_input_job_title))\n",
    "df=df.dropna()\n",
    "df.reset_index(drop=True, inplace=True)\n",
    "df"
   ]
  },
  {
   "cell_type": "code",
   "execution_count": 99,
   "id": "2f2550a3-a35d-4b4d-8adf-57da0101f109",
   "metadata": {},
   "outputs": [
    {
     "data": {
      "text/html": [
       "<div>\n",
       "<style scoped>\n",
       "    .dataframe tbody tr th:only-of-type {\n",
       "        vertical-align: middle;\n",
       "    }\n",
       "\n",
       "    .dataframe tbody tr th {\n",
       "        vertical-align: top;\n",
       "    }\n",
       "\n",
       "    .dataframe thead th {\n",
       "        text-align: right;\n",
       "    }\n",
       "</style>\n",
       "<table border=\"1\" class=\"dataframe\">\n",
       "  <thead>\n",
       "    <tr style=\"text-align: right;\">\n",
       "      <th></th>\n",
       "      <th>Company Name</th>\n",
       "      <th>Job Title</th>\n",
       "      <th>Location</th>\n",
       "      <th>Website URL</th>\n",
       "    </tr>\n",
       "  </thead>\n",
       "  <tbody>\n",
       "  </tbody>\n",
       "</table>\n",
       "</div>"
      ],
      "text/plain": [
       "Empty DataFrame\n",
       "Columns: [Company Name, Job Title, Location, Website URL]\n",
       "Index: []"
      ]
     },
     "execution_count": 99,
     "metadata": {},
     "output_type": "execute_result"
    }
   ],
   "source": [
    "df=df.iloc[:10,:]\n",
    "df"
   ]
  },
  {
   "cell_type": "code",
   "execution_count": 100,
   "id": "1cafd2b8-c4b5-44cc-95d1-cccd56395abb",
   "metadata": {},
   "outputs": [],
   "source": [
    "def description(link):\n",
    "\n",
    "    driver.get(link)\n",
    "    time.sleep(3)\n",
    "\n",
    "    driver.find_element(by=By.CSS_SELECTOR, value='button[data-tracking-control-name=\"public_jobs_show-more-html-btn\"]').click()\n",
    "    time.sleep(2)\n",
    "\n",
    "    description = driver.find_elements(by=By.CSS_SELECTOR, value='div[class=\"show-more-less-html__markup relative overflow-hidden\"]')\n",
    "    driver.implicitly_wait(4)\n",
    "    \n",
    "    for j in description:\n",
    "        return j.text"
   ]
  },
  {
   "cell_type": "code",
   "execution_count": 101,
   "id": "ba93a1c0-bbe0-427b-8bad-7921b08a6f26",
   "metadata": {},
   "outputs": [],
   "source": [
    "website_url = df['Website URL'].tolist()\n",
    "\n",
    "job_description = []\n",
    "\n",
    "for i in website_url:\n",
    "    data = description(i)\n",
    "    if data is not None and len(data.strip()) > 0:\n",
    "        job_description.append(data)\n",
    "    else:\n",
    "        job_description.append('Description Not Available')"
   ]
  },
  {
   "cell_type": "code",
   "execution_count": 102,
   "id": "6e6e4db2-f96b-4131-a48e-2c87bbdc55c8",
   "metadata": {},
   "outputs": [
    {
     "data": {
      "text/html": [
       "<div>\n",
       "<style scoped>\n",
       "    .dataframe tbody tr th:only-of-type {\n",
       "        vertical-align: middle;\n",
       "    }\n",
       "\n",
       "    .dataframe tbody tr th {\n",
       "        vertical-align: top;\n",
       "    }\n",
       "\n",
       "    .dataframe thead th {\n",
       "        text-align: right;\n",
       "    }\n",
       "</style>\n",
       "<table border=\"1\" class=\"dataframe\">\n",
       "  <thead>\n",
       "    <tr style=\"text-align: right;\">\n",
       "      <th></th>\n",
       "      <th>Company Name</th>\n",
       "      <th>Job Title</th>\n",
       "      <th>Location</th>\n",
       "      <th>Website URL</th>\n",
       "      <th>Job Description</th>\n",
       "    </tr>\n",
       "  </thead>\n",
       "  <tbody>\n",
       "  </tbody>\n",
       "</table>\n",
       "</div>"
      ],
      "text/plain": [
       "Empty DataFrame\n",
       "Columns: [Company Name, Job Title, Location, Website URL, Job Description]\n",
       "Index: []"
      ]
     },
     "execution_count": 102,
     "metadata": {},
     "output_type": "execute_result"
    }
   ],
   "source": [
    "df['Job Description'] = pd.DataFrame(job_description, columns=['Description'])\n",
    "df"
   ]
  },
  {
   "cell_type": "code",
   "execution_count": 103,
   "id": "66405b23-00a7-499d-85b4-2cbcca060633",
   "metadata": {},
   "outputs": [],
   "source": [
    "l = len(df['Company Name'])\n",
    "for i in range(0,l):\n",
    "    print(f\"Company Name : {df.iloc[i,0]}\")\n",
    "    print(f\"Job Title    : {df.iloc[i,1]}\")\n",
    "    print(f\"Location     : {df.iloc[i,2]}\")\n",
    "    print(f\"Website URL  : {df.iloc[i,3]}\")\n",
    "    print(f\"Description  : {df.iloc[i,4]}\")"
   ]
  },
  {
   "cell_type": "code",
   "execution_count": 105,
   "id": "4359a506-99c0-4ff0-87cf-709cee644707",
   "metadata": {},
   "outputs": [
    {
     "name": "stdout",
     "output_type": "stream",
     "text": [
      "<html lang=\"en\" class=\"theme theme--mercado app-loader--default artdeco windows\"><head><meta http-equiv=\"origin-trial\" content=\"A7vZI3v+Gz7JfuRolKNM4Aff6zaGuT7X0mf3wtoZTnKv6497cVMnhy03KDqX7kBz/q/iidW7srW31oQbBt4VhgoAAACUeyJvcmlnaW4iOiJodHRwczovL3d3dy5nb29nbGUuY29tOjQ0MyIsImZlYXR1cmUiOiJEaXNhYmxlVGhpcmRQYXJ0eVN0b3JhZ2VQYXJ0aXRpb25pbmczIiwiZXhwaXJ5IjoxNzU3OTgwODAwLCJpc1N1YmRvbWFpbiI6dHJ1ZSwiaXNUaGlyZFBhcnR5Ijp0cnVlfQ==\">\n",
      "    \n",
      "    <script type=\"text/javascript\" async=\"\" src=\"https://www.googletagmanager.com/gtag/js?id=DC-10880300&amp;cx=c&amp;gtm=45fe56p1h1v9180513682za200&amp;tag_exp=101509157~103116026~103200004~103233427~103308216~103308218~103351869~103351871~104684208~104684211~104718208~104784387~104784389\" nonce=\"\"></script><script type=\"text/javascript\" async=\"\" src=\"https://www.googletagmanager.com/gtag/js?id=AW-851212376&amp;cx=c&amp;gtm=45fe56p1h1v9180513682za200&amp;tag_exp=101509157~103116026~103200004~103233427~103308216~103308218~103351869~103351871~104684208~104684211~104718208~104784387~104784389\" nonce=\"\"></script><script type=\"text/javascript\" async=\"\" charset=\"utf-8\" id=\"utag_145\" src=\"https://www.googletagmanager.com/gtag/js?id=DC-9261636\"></script><script type=\"text/javascript\" async=\"\" charset=\"utf-8\" src=\"https://www.gstatic.com/recaptcha/releases/h7qt2xUGz2zqKEhSc8DD8baZ/recaptcha__en.js\" crossorigin=\"anonymous\" integrity=\"sha384-R2p1xdGKcSzm/oeFxRBmUuFAKdZRdY7u+SIsHBFbhXYxXlZ0TQJejBaVuyPwEVKn\" nonce=\"\"></script><script nonce=\"\">!function(i,n){void 0!==i.addEventListener&&void 0!==i.hidden&&(n.liVisibilityChangeListener=function(){i.hidden&&(n.liHasWindowHidden=!0)},i.addEventListener(\"visibilitychange\",n.liVisibilityChangeListener))}(document,window);</script>\n",
      "    <meta name=\"trusted-types\" content=\"script-src-attr 'none'; require-trusted-types-for 'script'; trusted-types 'allow-duplicates' default jSecure highcharts dompurify goog#html\" data-disposition=\"enforce\" data-sanitizer=\"jSecure\" data-report-to=\"https://www.linkedin.com/security/csp?a=voyager-web&amp;f=tt\" http-equiv=\"Content-Security-Policy\">\n",
      "\n",
      "    <title>data,, scientist,, artificial,, intelligence,, ai,, software,, developer Jobs in India | LinkedIn</title>\n",
      "\n",
      "    <meta charset=\"utf-8\">\n",
      "    <meta http-equiv=\"X-UA-Compatible\" content=\"IE=edge\">\n",
      "    <meta name=\"asset-url\" class=\"mercado-icons-sprite\" id=\"artdeco-icons/static/images/sprite-asset\" content=\"https://static.licdn.com/aero-v1/sc/h/2brfqc2ezdcl00afxrykl5mid\">\n",
      "    <meta name=\"description\" content=\"\">\n",
      "    <meta name=\"google\" content=\"notranslate\">\n",
      "    <meta name=\"service\" content=\"voyager-web\">\n",
      "    <meta name=\"theme-color\" content=\"#ffffff\" id=\"theme-color-meta-tag\">\n",
      "    <meta name=\"viewport\" content=\"width=device-width, initial-scale=1.0, minimum-scale=1.0\">\n",
      "    <meta name=\"baseCDNUrl\" content=\"https://static.licdn.com/aero-v1/sc/h\">\n",
      "    <meta name=\"storage-inventory\" content=\"\">\n",
      "    <meta name=\"format-detection\" content=\"telephone=no\">\n",
      "    <link rel=\"icon\" type=\"image/svg+xml\" href=\"https://static.licdn.com/aero-v1/sc/h/akt4ae504epesldzj74dzred8\" id=\"favicon-svg\">\n",
      "    <link rel=\"alternate icon\" href=\"https://static.licdn.com/aero-v1/sc/h/8s162nmbcnfkg7a0k8nq9wwqo\" id=\"favicon-png\" sizes=\"any\">\n",
      "    <link rel=\"mask-icon\" href=\"https://static.licdn.com/aero-v1/sc/h/8a1a8xqjolkyjbf9n3i40oimj\" color=\"#0a66c2\">\n",
      "    <link rel=\"manifest\" href=\"https://static.licdn.com/aero-v1/sc/h/cnb1wgf591tnion4pjadgvx87\" crossorigin=\"anonymous\">\n",
      "\n",
      "    \n",
      "        <link id=\"ui-theme\" rel=\"stylesheet\" href=\"https://static.licdn.com/aero-v1/sc/h/ev3prx6qwul6j3me07vap4ui1\">\n",
      "        <link id=\"ui-theme-dark\" rel=\"stylesheet\" href=\"https://static.licdn.com/aero-v1/sc/h/aukoz4odnf7kc6nk7ds8gowwm\" disabled=\"\">\n",
      "        \n",
      "      \n",
      "    <link rel=\"stylesheet\" href=\"https://static.licdn.com/aero-v1/sc/h/f1dec9shev02zvz9sve7ik7zl\">\n",
      "    \n",
      "<meta name=\"voyager-web/config/environment\" content=\"%7B%22modulePrefix%22%3A%22voyager-web%22%2C%22environment%22%3A%22production%22%2C%22aide%22%3A%7B%22isIsolatedBuild%22%3Afalse%7D%2C%22ember-finite-scroll%22%3A%7B%22assertMockDidIntersectEnabled%22%3Afalse%7D%2C%22ember-restli-graphql%22%3A%7B%22strictErrorHandling%22%3Atrue%7D%2C%22client-sensor-web%22%3A%7B%22mpName%22%3A%22voyager-web%22%7D%2C%22ember-pem%22%3A%7B%22defaultProductName%22%3A%22Voyager%20Web%22%7D%2C%22ember-li-privacy%22%3A%7B%22appId%22%3A%22com.linkedin.flagship3.d_web%22%2C%22auditLix%22%3A%22pemberly.bpr.privacy.enforcement.isAuditEventEnabled%22%7D%2C%22ember-media-player%22%3A%7B%22lazyLoad%22%3Atrue%7D%2C%22ember-fetch%22%3A%7B%22preferNative%22%3Atrue%7D%2C%22image-editor%22%3A%7B%22lazyLoad%22%3Atrue%7D%2C%22ember-cli-pemberly-force-refresh%22%3A%7B%22immediateLix%22%3A%22voyager.web.infra.force-refresh.immediate%22%2C%22timestampLix%22%3A%22voyager.web.infra.force-refresh.timestamp%22%2C%22clientSensorRefreshMetricName%22%3A%22server-driven-force-refresh%22%2C%22clientSensorGroupName%22%3A%22infra%22%7D%2C%22i18n%22%3A%7B%22disableMissingPlaceholderCheck%22%3Atrue%7D%2C%22rootURL%22%3A%22%2F%22%\n"
     ]
    }
   ],
   "source": [
    "print(driver.page_source[:5000])\n"
   ]
  },
  {
   "cell_type": "code",
   "execution_count": null,
   "id": "ad3de92d-0881-439c-979c-ac894a4ad05b",
   "metadata": {},
   "outputs": [],
   "source": []
  },
  {
   "cell_type": "code",
   "execution_count": null,
   "id": "6f387b5f-76ee-40b3-be6f-57bd0e37dc6d",
   "metadata": {},
   "outputs": [],
   "source": []
  }
 ],
 "metadata": {
  "kernelspec": {
   "display_name": "Python 3 (ipykernel)",
   "language": "python",
   "name": "python3"
  },
  "language_info": {
   "codemirror_mode": {
    "name": "ipython",
    "version": 3
   },
   "file_extension": ".py",
   "mimetype": "text/x-python",
   "name": "python",
   "nbconvert_exporter": "python",
   "pygments_lexer": "ipython3",
   "version": "3.12.7"
  }
 },
 "nbformat": 4,
 "nbformat_minor": 5
}
