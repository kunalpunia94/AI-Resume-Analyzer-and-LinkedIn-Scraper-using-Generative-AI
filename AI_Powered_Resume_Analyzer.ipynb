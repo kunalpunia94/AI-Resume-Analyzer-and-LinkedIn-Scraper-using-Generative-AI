{
 "cells": [
  {
   "cell_type": "code",
   "execution_count": 70,
   "id": "61335b1a-5e58-4a2f-8228-24990abd9bda",
   "metadata": {},
   "outputs": [
    {
     "name": "stdout",
     "output_type": "stream",
     "text": [
      "Requirement already satisfied: PyPDF2 in d:\\anaconda\\lib\\site-packages (3.0.1)\n",
      "Requirement already satisfied: langchain in d:\\anaconda\\lib\\site-packages (0.3.26)\n",
      "Requirement already satisfied: langchain-huggingface in d:\\anaconda\\lib\\site-packages (0.3.0)\n",
      "Requirement already satisfied: faiss-cpu in d:\\anaconda\\lib\\site-packages (1.11.0)\n",
      "Requirement already satisfied: langchain-groq in d:\\anaconda\\lib\\site-packages (0.3.4)\n",
      "Requirement already satisfied: sentence-transformers in d:\\anaconda\\lib\\site-packages (4.1.0)\n",
      "Requirement already satisfied: langchain-core<1.0.0,>=0.3.66 in d:\\anaconda\\lib\\site-packages (from langchain) (0.3.66)\n",
      "Requirement already satisfied: langchain-text-splitters<1.0.0,>=0.3.8 in d:\\anaconda\\lib\\site-packages (from langchain) (0.3.8)\n",
      "Requirement already satisfied: langsmith>=0.1.17 in d:\\anaconda\\lib\\site-packages (from langchain) (0.3.45)\n",
      "Requirement already satisfied: pydantic<3.0.0,>=2.7.4 in d:\\anaconda\\lib\\site-packages (from langchain) (2.8.2)\n",
      "Requirement already satisfied: SQLAlchemy<3,>=1.4 in d:\\anaconda\\lib\\site-packages (from langchain) (2.0.34)\n",
      "Requirement already satisfied: requests<3,>=2 in d:\\anaconda\\lib\\site-packages (from langchain) (2.32.3)\n",
      "Requirement already satisfied: PyYAML>=5.3 in d:\\anaconda\\lib\\site-packages (from langchain) (6.0.1)\n",
      "Requirement already satisfied: tokenizers>=0.19.1 in d:\\anaconda\\lib\\site-packages (from langchain-huggingface) (0.21.1)\n",
      "Requirement already satisfied: huggingface-hub>=0.30.2 in d:\\anaconda\\lib\\site-packages (from langchain-huggingface) (0.33.1)\n",
      "Requirement already satisfied: numpy<3.0,>=1.25.0 in d:\\anaconda\\lib\\site-packages (from faiss-cpu) (1.26.4)\n",
      "Requirement already satisfied: packaging in d:\\anaconda\\lib\\site-packages (from faiss-cpu) (24.1)\n",
      "Requirement already satisfied: groq<1,>=0.28.0 in d:\\anaconda\\lib\\site-packages (from langchain-groq) (0.29.0)\n",
      "Requirement already satisfied: transformers<5.0.0,>=4.41.0 in d:\\anaconda\\lib\\site-packages (from sentence-transformers) (4.52.4)\n",
      "Requirement already satisfied: tqdm in d:\\anaconda\\lib\\site-packages (from sentence-transformers) (4.66.5)\n",
      "Requirement already satisfied: torch>=1.11.0 in d:\\anaconda\\lib\\site-packages (from sentence-transformers) (2.7.1)\n",
      "Requirement already satisfied: scikit-learn in d:\\anaconda\\lib\\site-packages (from sentence-transformers) (1.6.1)\n",
      "Requirement already satisfied: scipy in d:\\anaconda\\lib\\site-packages (from sentence-transformers) (1.13.1)\n",
      "Requirement already satisfied: Pillow in d:\\anaconda\\lib\\site-packages (from sentence-transformers) (10.4.0)\n",
      "Requirement already satisfied: typing_extensions>=4.5.0 in d:\\anaconda\\lib\\site-packages (from sentence-transformers) (4.11.0)\n",
      "Requirement already satisfied: anyio<5,>=3.5.0 in d:\\anaconda\\lib\\site-packages (from groq<1,>=0.28.0->langchain-groq) (4.2.0)\n",
      "Requirement already satisfied: distro<2,>=1.7.0 in d:\\anaconda\\lib\\site-packages (from groq<1,>=0.28.0->langchain-groq) (1.9.0)\n",
      "Requirement already satisfied: httpx<1,>=0.23.0 in d:\\anaconda\\lib\\site-packages (from groq<1,>=0.28.0->langchain-groq) (0.27.0)\n",
      "Requirement already satisfied: sniffio in d:\\anaconda\\lib\\site-packages (from groq<1,>=0.28.0->langchain-groq) (1.3.0)\n",
      "Requirement already satisfied: filelock in d:\\anaconda\\lib\\site-packages (from huggingface-hub>=0.30.2->langchain-huggingface) (3.13.1)\n",
      "Requirement already satisfied: fsspec>=2023.5.0 in d:\\anaconda\\lib\\site-packages (from huggingface-hub>=0.30.2->langchain-huggingface) (2024.6.1)\n",
      "Requirement already satisfied: tenacity!=8.4.0,<10.0.0,>=8.1.0 in d:\\anaconda\\lib\\site-packages (from langchain-core<1.0.0,>=0.3.66->langchain) (8.2.3)\n",
      "Requirement already satisfied: jsonpatch<2.0,>=1.33 in d:\\anaconda\\lib\\site-packages (from langchain-core<1.0.0,>=0.3.66->langchain) (1.33)\n",
      "Requirement already satisfied: orjson<4.0.0,>=3.9.14 in d:\\anaconda\\lib\\site-packages (from langsmith>=0.1.17->langchain) (3.10.15)\n",
      "Requirement already satisfied: requests-toolbelt<2.0.0,>=1.0.0 in d:\\anaconda\\lib\\site-packages (from langsmith>=0.1.17->langchain) (1.0.0)\n",
      "Requirement already satisfied: zstandard<0.24.0,>=0.23.0 in d:\\anaconda\\lib\\site-packages (from langsmith>=0.1.17->langchain) (0.23.0)\n",
      "Requirement already satisfied: annotated-types>=0.4.0 in d:\\anaconda\\lib\\site-packages (from pydantic<3.0.0,>=2.7.4->langchain) (0.6.0)\n",
      "Requirement already satisfied: pydantic-core==2.20.1 in d:\\anaconda\\lib\\site-packages (from pydantic<3.0.0,>=2.7.4->langchain) (2.20.1)\n",
      "Requirement already satisfied: charset-normalizer<4,>=2 in d:\\anaconda\\lib\\site-packages (from requests<3,>=2->langchain) (3.3.2)\n",
      "Requirement already satisfied: idna<4,>=2.5 in d:\\anaconda\\lib\\site-packages (from requests<3,>=2->langchain) (3.7)\n",
      "Requirement already satisfied: urllib3<3,>=1.21.1 in d:\\anaconda\\lib\\site-packages (from requests<3,>=2->langchain) (2.2.3)\n",
      "Requirement already satisfied: certifi>=2017.4.17 in d:\\anaconda\\lib\\site-packages (from requests<3,>=2->langchain) (2024.8.30)\n",
      "Requirement already satisfied: greenlet!=0.4.17 in d:\\anaconda\\lib\\site-packages (from SQLAlchemy<3,>=1.4->langchain) (3.0.1)\n",
      "Requirement already satisfied: sympy>=1.13.3 in d:\\anaconda\\lib\\site-packages (from torch>=1.11.0->sentence-transformers) (1.14.0)\n",
      "Requirement already satisfied: networkx in d:\\anaconda\\lib\\site-packages (from torch>=1.11.0->sentence-transformers) (3.3)\n",
      "Requirement already satisfied: jinja2 in d:\\anaconda\\lib\\site-packages (from torch>=1.11.0->sentence-transformers) (3.1.4)\n",
      "Requirement already satisfied: setuptools in d:\\anaconda\\lib\\site-packages (from torch>=1.11.0->sentence-transformers) (75.1.0)\n",
      "Requirement already satisfied: colorama in d:\\anaconda\\lib\\site-packages (from tqdm->sentence-transformers) (0.4.6)\n",
      "Requirement already satisfied: regex!=2019.12.17 in d:\\anaconda\\lib\\site-packages (from transformers<5.0.0,>=4.41.0->sentence-transformers) (2024.9.11)\n",
      "Requirement already satisfied: safetensors>=0.4.3 in d:\\anaconda\\lib\\site-packages (from transformers<5.0.0,>=4.41.0->sentence-transformers) (0.5.3)\n",
      "Requirement already satisfied: joblib>=1.2.0 in d:\\anaconda\\lib\\site-packages (from scikit-learn->sentence-transformers) (1.4.2)\n",
      "Requirement already satisfied: threadpoolctl>=3.1.0 in d:\\anaconda\\lib\\site-packages (from scikit-learn->sentence-transformers) (3.6.0)\n",
      "Requirement already satisfied: httpcore==1.* in d:\\anaconda\\lib\\site-packages (from httpx<1,>=0.23.0->groq<1,>=0.28.0->langchain-groq) (1.0.2)\n",
      "Requirement already satisfied: h11<0.15,>=0.13 in d:\\anaconda\\lib\\site-packages (from httpcore==1.*->httpx<1,>=0.23.0->groq<1,>=0.28.0->langchain-groq) (0.14.0)\n",
      "Requirement already satisfied: jsonpointer>=1.9 in d:\\anaconda\\lib\\site-packages (from jsonpatch<2.0,>=1.33->langchain-core<1.0.0,>=0.3.66->langchain) (2.1)\n",
      "Requirement already satisfied: mpmath<1.4,>=1.1.0 in d:\\anaconda\\lib\\site-packages (from sympy>=1.13.3->torch>=1.11.0->sentence-transformers) (1.3.0)\n",
      "Requirement already satisfied: MarkupSafe>=2.0 in d:\\anaconda\\lib\\site-packages (from jinja2->torch>=1.11.0->sentence-transformers) (2.1.3)\n"
     ]
    }
   ],
   "source": [
    "!pip install PyPDF2 langchain langchain-huggingface faiss-cpu langchain-groq sentence-transformers "
   ]
  },
  {
   "cell_type": "code",
   "execution_count": 71,
   "id": "29a205ce-bcea-43d8-97f9-e8761fcdb736",
   "metadata": {},
   "outputs": [
    {
     "name": "stdout",
     "output_type": "stream",
     "text": [
      "Requirement already satisfied: ipywidgets in d:\\anaconda\\lib\\site-packages (7.8.1)\n",
      "Requirement already satisfied: comm>=0.1.3 in d:\\anaconda\\lib\\site-packages (from ipywidgets) (0.2.1)\n",
      "Requirement already satisfied: ipython-genutils~=0.2.0 in d:\\anaconda\\lib\\site-packages (from ipywidgets) (0.2.0)\n",
      "Requirement already satisfied: traitlets>=4.3.1 in d:\\anaconda\\lib\\site-packages (from ipywidgets) (5.14.3)\n",
      "Requirement already satisfied: widgetsnbextension~=3.6.6 in d:\\anaconda\\lib\\site-packages (from ipywidgets) (3.6.6)\n",
      "Requirement already satisfied: ipython>=4.0.0 in d:\\anaconda\\lib\\site-packages (from ipywidgets) (8.27.0)\n",
      "Requirement already satisfied: jupyterlab-widgets<3,>=1.0.0 in d:\\anaconda\\lib\\site-packages (from ipywidgets) (1.0.0)\n",
      "Requirement already satisfied: decorator in d:\\anaconda\\lib\\site-packages (from ipython>=4.0.0->ipywidgets) (5.1.1)\n",
      "Requirement already satisfied: jedi>=0.16 in d:\\anaconda\\lib\\site-packages (from ipython>=4.0.0->ipywidgets) (0.19.1)\n",
      "Requirement already satisfied: matplotlib-inline in d:\\anaconda\\lib\\site-packages (from ipython>=4.0.0->ipywidgets) (0.1.6)\n",
      "Requirement already satisfied: prompt-toolkit<3.1.0,>=3.0.41 in d:\\anaconda\\lib\\site-packages (from ipython>=4.0.0->ipywidgets) (3.0.43)\n",
      "Requirement already satisfied: pygments>=2.4.0 in d:\\anaconda\\lib\\site-packages (from ipython>=4.0.0->ipywidgets) (2.15.1)\n",
      "Requirement already satisfied: stack-data in d:\\anaconda\\lib\\site-packages (from ipython>=4.0.0->ipywidgets) (0.2.0)\n",
      "Requirement already satisfied: colorama in d:\\anaconda\\lib\\site-packages (from ipython>=4.0.0->ipywidgets) (0.4.6)\n",
      "Requirement already satisfied: notebook>=4.4.1 in d:\\anaconda\\lib\\site-packages (from widgetsnbextension~=3.6.6->ipywidgets) (7.2.2)\n",
      "Requirement already satisfied: parso<0.9.0,>=0.8.3 in d:\\anaconda\\lib\\site-packages (from jedi>=0.16->ipython>=4.0.0->ipywidgets) (0.8.3)\n",
      "Requirement already satisfied: jupyter-server<3,>=2.4.0 in d:\\anaconda\\lib\\site-packages (from notebook>=4.4.1->widgetsnbextension~=3.6.6->ipywidgets) (2.14.1)\n",
      "Requirement already satisfied: jupyterlab-server<3,>=2.27.1 in d:\\anaconda\\lib\\site-packages (from notebook>=4.4.1->widgetsnbextension~=3.6.6->ipywidgets) (2.27.3)\n",
      "Requirement already satisfied: jupyterlab<4.3,>=4.2.0 in d:\\anaconda\\lib\\site-packages (from notebook>=4.4.1->widgetsnbextension~=3.6.6->ipywidgets) (4.2.5)\n",
      "Requirement already satisfied: notebook-shim<0.3,>=0.2 in d:\\anaconda\\lib\\site-packages (from notebook>=4.4.1->widgetsnbextension~=3.6.6->ipywidgets) (0.2.3)\n",
      "Requirement already satisfied: tornado>=6.2.0 in d:\\anaconda\\lib\\site-packages (from notebook>=4.4.1->widgetsnbextension~=3.6.6->ipywidgets) (6.4.1)\n",
      "Requirement already satisfied: wcwidth in d:\\anaconda\\lib\\site-packages (from prompt-toolkit<3.1.0,>=3.0.41->ipython>=4.0.0->ipywidgets) (0.2.5)\n",
      "Requirement already satisfied: executing in d:\\anaconda\\lib\\site-packages (from stack-data->ipython>=4.0.0->ipywidgets) (0.8.3)\n",
      "Requirement already satisfied: asttokens in d:\\anaconda\\lib\\site-packages (from stack-data->ipython>=4.0.0->ipywidgets) (2.0.5)\n",
      "Requirement already satisfied: pure-eval in d:\\anaconda\\lib\\site-packages (from stack-data->ipython>=4.0.0->ipywidgets) (0.2.2)\n",
      "Requirement already satisfied: anyio>=3.1.0 in d:\\anaconda\\lib\\site-packages (from jupyter-server<3,>=2.4.0->notebook>=4.4.1->widgetsnbextension~=3.6.6->ipywidgets) (4.2.0)\n",
      "Requirement already satisfied: argon2-cffi>=21.1 in d:\\anaconda\\lib\\site-packages (from jupyter-server<3,>=2.4.0->notebook>=4.4.1->widgetsnbextension~=3.6.6->ipywidgets) (21.3.0)\n",
      "Requirement already satisfied: jinja2>=3.0.3 in d:\\anaconda\\lib\\site-packages (from jupyter-server<3,>=2.4.0->notebook>=4.4.1->widgetsnbextension~=3.6.6->ipywidgets) (3.1.4)\n",
      "Requirement already satisfied: jupyter-client>=7.4.4 in d:\\anaconda\\lib\\site-packages (from jupyter-server<3,>=2.4.0->notebook>=4.4.1->widgetsnbextension~=3.6.6->ipywidgets) (8.6.0)\n",
      "Requirement already satisfied: jupyter-core!=5.0.*,>=4.12 in d:\\anaconda\\lib\\site-packages (from jupyter-server<3,>=2.4.0->notebook>=4.4.1->widgetsnbextension~=3.6.6->ipywidgets) (5.7.2)\n",
      "Requirement already satisfied: jupyter-events>=0.9.0 in d:\\anaconda\\lib\\site-packages (from jupyter-server<3,>=2.4.0->notebook>=4.4.1->widgetsnbextension~=3.6.6->ipywidgets) (0.10.0)\n",
      "Requirement already satisfied: jupyter-server-terminals>=0.4.4 in d:\\anaconda\\lib\\site-packages (from jupyter-server<3,>=2.4.0->notebook>=4.4.1->widgetsnbextension~=3.6.6->ipywidgets) (0.4.4)\n",
      "Requirement already satisfied: nbconvert>=6.4.4 in d:\\anaconda\\lib\\site-packages (from jupyter-server<3,>=2.4.0->notebook>=4.4.1->widgetsnbextension~=3.6.6->ipywidgets) (7.16.4)\n",
      "Requirement already satisfied: nbformat>=5.3.0 in d:\\anaconda\\lib\\site-packages (from jupyter-server<3,>=2.4.0->notebook>=4.4.1->widgetsnbextension~=3.6.6->ipywidgets) (5.10.4)\n",
      "Requirement already satisfied: overrides>=5.0 in d:\\anaconda\\lib\\site-packages (from jupyter-server<3,>=2.4.0->notebook>=4.4.1->widgetsnbextension~=3.6.6->ipywidgets) (7.4.0)\n",
      "Requirement already satisfied: packaging>=22.0 in d:\\anaconda\\lib\\site-packages (from jupyter-server<3,>=2.4.0->notebook>=4.4.1->widgetsnbextension~=3.6.6->ipywidgets) (24.1)\n",
      "Requirement already satisfied: prometheus-client>=0.9 in d:\\anaconda\\lib\\site-packages (from jupyter-server<3,>=2.4.0->notebook>=4.4.1->widgetsnbextension~=3.6.6->ipywidgets) (0.14.1)\n",
      "Requirement already satisfied: pywinpty>=2.0.1 in d:\\anaconda\\lib\\site-packages (from jupyter-server<3,>=2.4.0->notebook>=4.4.1->widgetsnbextension~=3.6.6->ipywidgets) (2.0.10)\n",
      "Requirement already satisfied: pyzmq>=24 in d:\\anaconda\\lib\\site-packages (from jupyter-server<3,>=2.4.0->notebook>=4.4.1->widgetsnbextension~=3.6.6->ipywidgets) (25.1.2)\n",
      "Requirement already satisfied: send2trash>=1.8.2 in d:\\anaconda\\lib\\site-packages (from jupyter-server<3,>=2.4.0->notebook>=4.4.1->widgetsnbextension~=3.6.6->ipywidgets) (1.8.2)\n",
      "Requirement already satisfied: terminado>=0.8.3 in d:\\anaconda\\lib\\site-packages (from jupyter-server<3,>=2.4.0->notebook>=4.4.1->widgetsnbextension~=3.6.6->ipywidgets) (0.17.1)\n",
      "Requirement already satisfied: websocket-client>=1.7 in d:\\anaconda\\lib\\site-packages (from jupyter-server<3,>=2.4.0->notebook>=4.4.1->widgetsnbextension~=3.6.6->ipywidgets) (1.8.0)\n",
      "Requirement already satisfied: async-lru>=1.0.0 in d:\\anaconda\\lib\\site-packages (from jupyterlab<4.3,>=4.2.0->notebook>=4.4.1->widgetsnbextension~=3.6.6->ipywidgets) (2.0.4)\n",
      "Requirement already satisfied: httpx>=0.25.0 in d:\\anaconda\\lib\\site-packages (from jupyterlab<4.3,>=4.2.0->notebook>=4.4.1->widgetsnbextension~=3.6.6->ipywidgets) (0.27.0)\n",
      "Requirement already satisfied: ipykernel>=6.5.0 in d:\\anaconda\\lib\\site-packages (from jupyterlab<4.3,>=4.2.0->notebook>=4.4.1->widgetsnbextension~=3.6.6->ipywidgets) (6.28.0)\n",
      "Requirement already satisfied: jupyter-lsp>=2.0.0 in d:\\anaconda\\lib\\site-packages (from jupyterlab<4.3,>=4.2.0->notebook>=4.4.1->widgetsnbextension~=3.6.6->ipywidgets) (2.2.0)\n",
      "Requirement already satisfied: setuptools>=40.1.0 in d:\\anaconda\\lib\\site-packages (from jupyterlab<4.3,>=4.2.0->notebook>=4.4.1->widgetsnbextension~=3.6.6->ipywidgets) (75.1.0)\n",
      "Requirement already satisfied: babel>=2.10 in d:\\anaconda\\lib\\site-packages (from jupyterlab-server<3,>=2.27.1->notebook>=4.4.1->widgetsnbextension~=3.6.6->ipywidgets) (2.11.0)\n",
      "Requirement already satisfied: json5>=0.9.0 in d:\\anaconda\\lib\\site-packages (from jupyterlab-server<3,>=2.27.1->notebook>=4.4.1->widgetsnbextension~=3.6.6->ipywidgets) (0.9.6)\n",
      "Requirement already satisfied: jsonschema>=4.18.0 in d:\\anaconda\\lib\\site-packages (from jupyterlab-server<3,>=2.27.1->notebook>=4.4.1->widgetsnbextension~=3.6.6->ipywidgets) (4.23.0)\n",
      "Requirement already satisfied: requests>=2.31 in d:\\anaconda\\lib\\site-packages (from jupyterlab-server<3,>=2.27.1->notebook>=4.4.1->widgetsnbextension~=3.6.6->ipywidgets) (2.32.3)\n",
      "Requirement already satisfied: six in d:\\anaconda\\lib\\site-packages (from asttokens->stack-data->ipython>=4.0.0->ipywidgets) (1.16.0)\n",
      "Requirement already satisfied: idna>=2.8 in d:\\anaconda\\lib\\site-packages (from anyio>=3.1.0->jupyter-server<3,>=2.4.0->notebook>=4.4.1->widgetsnbextension~=3.6.6->ipywidgets) (3.7)\n",
      "Requirement already satisfied: sniffio>=1.1 in d:\\anaconda\\lib\\site-packages (from anyio>=3.1.0->jupyter-server<3,>=2.4.0->notebook>=4.4.1->widgetsnbextension~=3.6.6->ipywidgets) (1.3.0)\n",
      "Requirement already satisfied: argon2-cffi-bindings in d:\\anaconda\\lib\\site-packages (from argon2-cffi>=21.1->jupyter-server<3,>=2.4.0->notebook>=4.4.1->widgetsnbextension~=3.6.6->ipywidgets) (21.2.0)\n",
      "Requirement already satisfied: pytz>=2015.7 in d:\\anaconda\\lib\\site-packages (from babel>=2.10->jupyterlab-server<3,>=2.27.1->notebook>=4.4.1->widgetsnbextension~=3.6.6->ipywidgets) (2024.1)\n",
      "Requirement already satisfied: certifi in d:\\anaconda\\lib\\site-packages (from httpx>=0.25.0->jupyterlab<4.3,>=4.2.0->notebook>=4.4.1->widgetsnbextension~=3.6.6->ipywidgets) (2024.8.30)\n",
      "Requirement already satisfied: httpcore==1.* in d:\\anaconda\\lib\\site-packages (from httpx>=0.25.0->jupyterlab<4.3,>=4.2.0->notebook>=4.4.1->widgetsnbextension~=3.6.6->ipywidgets) (1.0.2)\n",
      "Requirement already satisfied: h11<0.15,>=0.13 in d:\\anaconda\\lib\\site-packages (from httpcore==1.*->httpx>=0.25.0->jupyterlab<4.3,>=4.2.0->notebook>=4.4.1->widgetsnbextension~=3.6.6->ipywidgets) (0.14.0)\n",
      "Requirement already satisfied: debugpy>=1.6.5 in d:\\anaconda\\lib\\site-packages (from ipykernel>=6.5.0->jupyterlab<4.3,>=4.2.0->notebook>=4.4.1->widgetsnbextension~=3.6.6->ipywidgets) (1.6.7)\n",
      "Requirement already satisfied: nest-asyncio in d:\\anaconda\\lib\\site-packages (from ipykernel>=6.5.0->jupyterlab<4.3,>=4.2.0->notebook>=4.4.1->widgetsnbextension~=3.6.6->ipywidgets) (1.6.0)\n",
      "Requirement already satisfied: psutil in d:\\anaconda\\lib\\site-packages (from ipykernel>=6.5.0->jupyterlab<4.3,>=4.2.0->notebook>=4.4.1->widgetsnbextension~=3.6.6->ipywidgets) (5.9.0)\n",
      "Requirement already satisfied: MarkupSafe>=2.0 in d:\\anaconda\\lib\\site-packages (from jinja2>=3.0.3->jupyter-server<3,>=2.4.0->notebook>=4.4.1->widgetsnbextension~=3.6.6->ipywidgets) (2.1.3)\n",
      "Requirement already satisfied: attrs>=22.2.0 in d:\\anaconda\\lib\\site-packages (from jsonschema>=4.18.0->jupyterlab-server<3,>=2.27.1->notebook>=4.4.1->widgetsnbextension~=3.6.6->ipywidgets) (25.1.0)\n",
      "Requirement already satisfied: jsonschema-specifications>=2023.03.6 in d:\\anaconda\\lib\\site-packages (from jsonschema>=4.18.0->jupyterlab-server<3,>=2.27.1->notebook>=4.4.1->widgetsnbextension~=3.6.6->ipywidgets) (2023.7.1)\n",
      "Requirement already satisfied: referencing>=0.28.4 in d:\\anaconda\\lib\\site-packages (from jsonschema>=4.18.0->jupyterlab-server<3,>=2.27.1->notebook>=4.4.1->widgetsnbextension~=3.6.6->ipywidgets) (0.30.2)\n",
      "Requirement already satisfied: rpds-py>=0.7.1 in d:\\anaconda\\lib\\site-packages (from jsonschema>=4.18.0->jupyterlab-server<3,>=2.27.1->notebook>=4.4.1->widgetsnbextension~=3.6.6->ipywidgets) (0.10.6)\n",
      "Requirement already satisfied: python-dateutil>=2.8.2 in d:\\anaconda\\lib\\site-packages (from jupyter-client>=7.4.4->jupyter-server<3,>=2.4.0->notebook>=4.4.1->widgetsnbextension~=3.6.6->ipywidgets) (2.9.0.post0)\n",
      "Requirement already satisfied: platformdirs>=2.5 in d:\\anaconda\\lib\\site-packages (from jupyter-core!=5.0.*,>=4.12->jupyter-server<3,>=2.4.0->notebook>=4.4.1->widgetsnbextension~=3.6.6->ipywidgets) (3.10.0)\n",
      "Requirement already satisfied: pywin32>=300 in d:\\anaconda\\lib\\site-packages (from jupyter-core!=5.0.*,>=4.12->jupyter-server<3,>=2.4.0->notebook>=4.4.1->widgetsnbextension~=3.6.6->ipywidgets) (305.1)\n",
      "Requirement already satisfied: python-json-logger>=2.0.4 in d:\\anaconda\\lib\\site-packages (from jupyter-events>=0.9.0->jupyter-server<3,>=2.4.0->notebook>=4.4.1->widgetsnbextension~=3.6.6->ipywidgets) (2.0.7)\n",
      "Requirement already satisfied: pyyaml>=5.3 in d:\\anaconda\\lib\\site-packages (from jupyter-events>=0.9.0->jupyter-server<3,>=2.4.0->notebook>=4.4.1->widgetsnbextension~=3.6.6->ipywidgets) (6.0.1)\n",
      "Requirement already satisfied: rfc3339-validator in d:\\anaconda\\lib\\site-packages (from jupyter-events>=0.9.0->jupyter-server<3,>=2.4.0->notebook>=4.4.1->widgetsnbextension~=3.6.6->ipywidgets) (0.1.4)\n",
      "Requirement already satisfied: rfc3986-validator>=0.1.1 in d:\\anaconda\\lib\\site-packages (from jupyter-events>=0.9.0->jupyter-server<3,>=2.4.0->notebook>=4.4.1->widgetsnbextension~=3.6.6->ipywidgets) (0.1.1)\n",
      "Requirement already satisfied: beautifulsoup4 in d:\\anaconda\\lib\\site-packages (from nbconvert>=6.4.4->jupyter-server<3,>=2.4.0->notebook>=4.4.1->widgetsnbextension~=3.6.6->ipywidgets) (4.12.3)\n",
      "Requirement already satisfied: bleach!=5.0.0 in d:\\anaconda\\lib\\site-packages (from nbconvert>=6.4.4->jupyter-server<3,>=2.4.0->notebook>=4.4.1->widgetsnbextension~=3.6.6->ipywidgets) (4.1.0)\n",
      "Requirement already satisfied: defusedxml in d:\\anaconda\\lib\\site-packages (from nbconvert>=6.4.4->jupyter-server<3,>=2.4.0->notebook>=4.4.1->widgetsnbextension~=3.6.6->ipywidgets) (0.7.1)\n",
      "Requirement already satisfied: jupyterlab-pygments in d:\\anaconda\\lib\\site-packages (from nbconvert>=6.4.4->jupyter-server<3,>=2.4.0->notebook>=4.4.1->widgetsnbextension~=3.6.6->ipywidgets) (0.1.2)\n",
      "Requirement already satisfied: mistune<4,>=2.0.3 in d:\\anaconda\\lib\\site-packages (from nbconvert>=6.4.4->jupyter-server<3,>=2.4.0->notebook>=4.4.1->widgetsnbextension~=3.6.6->ipywidgets) (2.0.4)\n",
      "Requirement already satisfied: nbclient>=0.5.0 in d:\\anaconda\\lib\\site-packages (from nbconvert>=6.4.4->jupyter-server<3,>=2.4.0->notebook>=4.4.1->widgetsnbextension~=3.6.6->ipywidgets) (0.8.0)\n",
      "Requirement already satisfied: pandocfilters>=1.4.1 in d:\\anaconda\\lib\\site-packages (from nbconvert>=6.4.4->jupyter-server<3,>=2.4.0->notebook>=4.4.1->widgetsnbextension~=3.6.6->ipywidgets) (1.5.0)\n",
      "Requirement already satisfied: tinycss2 in d:\\anaconda\\lib\\site-packages (from nbconvert>=6.4.4->jupyter-server<3,>=2.4.0->notebook>=4.4.1->widgetsnbextension~=3.6.6->ipywidgets) (1.2.1)\n",
      "Requirement already satisfied: fastjsonschema>=2.15 in d:\\anaconda\\lib\\site-packages (from nbformat>=5.3.0->jupyter-server<3,>=2.4.0->notebook>=4.4.1->widgetsnbextension~=3.6.6->ipywidgets) (2.16.2)\n",
      "Requirement already satisfied: charset-normalizer<4,>=2 in d:\\anaconda\\lib\\site-packages (from requests>=2.31->jupyterlab-server<3,>=2.27.1->notebook>=4.4.1->widgetsnbextension~=3.6.6->ipywidgets) (3.3.2)\n",
      "Requirement already satisfied: urllib3<3,>=1.21.1 in d:\\anaconda\\lib\\site-packages (from requests>=2.31->jupyterlab-server<3,>=2.27.1->notebook>=4.4.1->widgetsnbextension~=3.6.6->ipywidgets) (2.2.3)\n",
      "Requirement already satisfied: webencodings in d:\\anaconda\\lib\\site-packages (from bleach!=5.0.0->nbconvert>=6.4.4->jupyter-server<3,>=2.4.0->notebook>=4.4.1->widgetsnbextension~=3.6.6->ipywidgets) (0.5.1)\n",
      "Requirement already satisfied: fqdn in d:\\anaconda\\lib\\site-packages (from jsonschema[format-nongpl]>=4.18.0->jupyter-events>=0.9.0->jupyter-server<3,>=2.4.0->notebook>=4.4.1->widgetsnbextension~=3.6.6->ipywidgets) (1.5.1)\n",
      "Requirement already satisfied: isoduration in d:\\anaconda\\lib\\site-packages (from jsonschema[format-nongpl]>=4.18.0->jupyter-events>=0.9.0->jupyter-server<3,>=2.4.0->notebook>=4.4.1->widgetsnbextension~=3.6.6->ipywidgets) (20.11.0)\n",
      "Requirement already satisfied: jsonpointer>1.13 in d:\\anaconda\\lib\\site-packages (from jsonschema[format-nongpl]>=4.18.0->jupyter-events>=0.9.0->jupyter-server<3,>=2.4.0->notebook>=4.4.1->widgetsnbextension~=3.6.6->ipywidgets) (2.1)\n",
      "Requirement already satisfied: uri-template in d:\\anaconda\\lib\\site-packages (from jsonschema[format-nongpl]>=4.18.0->jupyter-events>=0.9.0->jupyter-server<3,>=2.4.0->notebook>=4.4.1->widgetsnbextension~=3.6.6->ipywidgets) (1.3.0)\n",
      "Requirement already satisfied: webcolors>=24.6.0 in d:\\anaconda\\lib\\site-packages (from jsonschema[format-nongpl]>=4.18.0->jupyter-events>=0.9.0->jupyter-server<3,>=2.4.0->notebook>=4.4.1->widgetsnbextension~=3.6.6->ipywidgets) (24.11.1)\n",
      "Requirement already satisfied: cffi>=1.0.1 in d:\\anaconda\\lib\\site-packages (from argon2-cffi-bindings->argon2-cffi>=21.1->jupyter-server<3,>=2.4.0->notebook>=4.4.1->widgetsnbextension~=3.6.6->ipywidgets) (1.17.1)\n",
      "Requirement already satisfied: soupsieve>1.2 in d:\\anaconda\\lib\\site-packages (from beautifulsoup4->nbconvert>=6.4.4->jupyter-server<3,>=2.4.0->notebook>=4.4.1->widgetsnbextension~=3.6.6->ipywidgets) (2.5)\n",
      "Requirement already satisfied: pycparser in d:\\anaconda\\lib\\site-packages (from cffi>=1.0.1->argon2-cffi-bindings->argon2-cffi>=21.1->jupyter-server<3,>=2.4.0->notebook>=4.4.1->widgetsnbextension~=3.6.6->ipywidgets) (2.21)\n",
      "Requirement already satisfied: arrow>=0.15.0 in d:\\anaconda\\lib\\site-packages (from isoduration->jsonschema[format-nongpl]>=4.18.0->jupyter-events>=0.9.0->jupyter-server<3,>=2.4.0->notebook>=4.4.1->widgetsnbextension~=3.6.6->ipywidgets) (1.2.3)\n",
      "Requirement already satisfied: huggingface_hub[hf_xet] in d:\\anaconda\\lib\\site-packages (0.33.1)\n",
      "Requirement already satisfied: filelock in d:\\anaconda\\lib\\site-packages (from huggingface_hub[hf_xet]) (3.13.1)\n",
      "Requirement already satisfied: fsspec>=2023.5.0 in d:\\anaconda\\lib\\site-packages (from huggingface_hub[hf_xet]) (2024.6.1)\n",
      "Requirement already satisfied: packaging>=20.9 in d:\\anaconda\\lib\\site-packages (from huggingface_hub[hf_xet]) (24.1)\n",
      "Requirement already satisfied: pyyaml>=5.1 in d:\\anaconda\\lib\\site-packages (from huggingface_hub[hf_xet]) (6.0.1)\n",
      "Requirement already satisfied: requests in d:\\anaconda\\lib\\site-packages (from huggingface_hub[hf_xet]) (2.32.3)\n",
      "Requirement already satisfied: tqdm>=4.42.1 in d:\\anaconda\\lib\\site-packages (from huggingface_hub[hf_xet]) (4.66.5)\n",
      "Requirement already satisfied: typing-extensions>=3.7.4.3 in d:\\anaconda\\lib\\site-packages (from huggingface_hub[hf_xet]) (4.11.0)\n",
      "Requirement already satisfied: hf-xet<2.0.0,>=1.1.2 in d:\\anaconda\\lib\\site-packages (from huggingface_hub[hf_xet]) (1.1.5)\n",
      "Requirement already satisfied: colorama in d:\\anaconda\\lib\\site-packages (from tqdm>=4.42.1->huggingface_hub[hf_xet]) (0.4.6)\n",
      "Requirement already satisfied: charset-normalizer<4,>=2 in d:\\anaconda\\lib\\site-packages (from requests->huggingface_hub[hf_xet]) (3.3.2)\n",
      "Requirement already satisfied: idna<4,>=2.5 in d:\\anaconda\\lib\\site-packages (from requests->huggingface_hub[hf_xet]) (3.7)\n",
      "Requirement already satisfied: urllib3<3,>=1.21.1 in d:\\anaconda\\lib\\site-packages (from requests->huggingface_hub[hf_xet]) (2.2.3)\n",
      "Requirement already satisfied: certifi>=2017.4.17 in d:\\anaconda\\lib\\site-packages (from requests->huggingface_hub[hf_xet]) (2024.8.30)\n"
     ]
    }
   ],
   "source": [
    "!pip install ipywidgets\n",
    "!pip install huggingface_hub[hf_xet]"
   ]
  },
  {
   "cell_type": "code",
   "execution_count": 72,
   "id": "674c8b3a-b53a-49fd-9609-ea14e5231a06",
   "metadata": {},
   "outputs": [
    {
     "name": "stdout",
     "output_type": "stream",
     "text": [
      "Requirement already satisfied: tf-keras in d:\\anaconda\\lib\\site-packages (2.19.0)\n",
      "Requirement already satisfied: tensorflow<2.20,>=2.19 in d:\\anaconda\\lib\\site-packages (from tf-keras) (2.19.0)\n",
      "Requirement already satisfied: absl-py>=1.0.0 in d:\\anaconda\\lib\\site-packages (from tensorflow<2.20,>=2.19->tf-keras) (2.2.2)\n",
      "Requirement already satisfied: astunparse>=1.6.0 in d:\\anaconda\\lib\\site-packages (from tensorflow<2.20,>=2.19->tf-keras) (1.6.3)\n",
      "Requirement already satisfied: flatbuffers>=24.3.25 in d:\\anaconda\\lib\\site-packages (from tensorflow<2.20,>=2.19->tf-keras) (25.2.10)\n",
      "Requirement already satisfied: gast!=0.5.0,!=0.5.1,!=0.5.2,>=0.2.1 in d:\\anaconda\\lib\\site-packages (from tensorflow<2.20,>=2.19->tf-keras) (0.6.0)\n",
      "Requirement already satisfied: google-pasta>=0.1.1 in d:\\anaconda\\lib\\site-packages (from tensorflow<2.20,>=2.19->tf-keras) (0.2.0)\n",
      "Requirement already satisfied: libclang>=13.0.0 in d:\\anaconda\\lib\\site-packages (from tensorflow<2.20,>=2.19->tf-keras) (18.1.1)\n",
      "Requirement already satisfied: opt-einsum>=2.3.2 in d:\\anaconda\\lib\\site-packages (from tensorflow<2.20,>=2.19->tf-keras) (3.4.0)\n",
      "Requirement already satisfied: packaging in d:\\anaconda\\lib\\site-packages (from tensorflow<2.20,>=2.19->tf-keras) (24.1)\n",
      "Requirement already satisfied: protobuf!=4.21.0,!=4.21.1,!=4.21.2,!=4.21.3,!=4.21.4,!=4.21.5,<6.0.0dev,>=3.20.3 in d:\\anaconda\\lib\\site-packages (from tensorflow<2.20,>=2.19->tf-keras) (5.29.3)\n",
      "Requirement already satisfied: requests<3,>=2.21.0 in d:\\anaconda\\lib\\site-packages (from tensorflow<2.20,>=2.19->tf-keras) (2.32.3)\n",
      "Requirement already satisfied: setuptools in d:\\anaconda\\lib\\site-packages (from tensorflow<2.20,>=2.19->tf-keras) (75.1.0)\n",
      "Requirement already satisfied: six>=1.12.0 in d:\\anaconda\\lib\\site-packages (from tensorflow<2.20,>=2.19->tf-keras) (1.16.0)\n",
      "Requirement already satisfied: termcolor>=1.1.0 in d:\\anaconda\\lib\\site-packages (from tensorflow<2.20,>=2.19->tf-keras) (3.0.1)\n",
      "Requirement already satisfied: typing-extensions>=3.6.6 in d:\\anaconda\\lib\\site-packages (from tensorflow<2.20,>=2.19->tf-keras) (4.11.0)\n",
      "Requirement already satisfied: wrapt>=1.11.0 in d:\\anaconda\\lib\\site-packages (from tensorflow<2.20,>=2.19->tf-keras) (1.17.2)\n",
      "Requirement already satisfied: grpcio<2.0,>=1.24.3 in d:\\anaconda\\lib\\site-packages (from tensorflow<2.20,>=2.19->tf-keras) (1.70.0)\n",
      "Requirement already satisfied: tensorboard~=2.19.0 in d:\\anaconda\\lib\\site-packages (from tensorflow<2.20,>=2.19->tf-keras) (2.19.0)\n",
      "Requirement already satisfied: keras>=3.5.0 in d:\\anaconda\\lib\\site-packages (from tensorflow<2.20,>=2.19->tf-keras) (3.10.0)\n",
      "Requirement already satisfied: numpy<2.2.0,>=1.26.0 in d:\\anaconda\\lib\\site-packages (from tensorflow<2.20,>=2.19->tf-keras) (1.26.4)\n",
      "Requirement already satisfied: h5py>=3.11.0 in d:\\anaconda\\lib\\site-packages (from tensorflow<2.20,>=2.19->tf-keras) (3.14.0)\n",
      "Requirement already satisfied: ml-dtypes<1.0.0,>=0.5.1 in d:\\anaconda\\lib\\site-packages (from tensorflow<2.20,>=2.19->tf-keras) (0.5.1)\n",
      "Requirement already satisfied: wheel<1.0,>=0.23.0 in d:\\anaconda\\lib\\site-packages (from astunparse>=1.6.0->tensorflow<2.20,>=2.19->tf-keras) (0.44.0)\n",
      "Requirement already satisfied: rich in d:\\anaconda\\lib\\site-packages (from keras>=3.5.0->tensorflow<2.20,>=2.19->tf-keras) (13.7.1)\n",
      "Requirement already satisfied: namex in d:\\anaconda\\lib\\site-packages (from keras>=3.5.0->tensorflow<2.20,>=2.19->tf-keras) (0.0.8)\n",
      "Requirement already satisfied: optree in d:\\anaconda\\lib\\site-packages (from keras>=3.5.0->tensorflow<2.20,>=2.19->tf-keras) (0.14.1)\n",
      "Requirement already satisfied: charset-normalizer<4,>=2 in d:\\anaconda\\lib\\site-packages (from requests<3,>=2.21.0->tensorflow<2.20,>=2.19->tf-keras) (3.3.2)\n",
      "Requirement already satisfied: idna<4,>=2.5 in d:\\anaconda\\lib\\site-packages (from requests<3,>=2.21.0->tensorflow<2.20,>=2.19->tf-keras) (3.7)\n",
      "Requirement already satisfied: urllib3<3,>=1.21.1 in d:\\anaconda\\lib\\site-packages (from requests<3,>=2.21.0->tensorflow<2.20,>=2.19->tf-keras) (2.2.3)\n",
      "Requirement already satisfied: certifi>=2017.4.17 in d:\\anaconda\\lib\\site-packages (from requests<3,>=2.21.0->tensorflow<2.20,>=2.19->tf-keras) (2024.8.30)\n",
      "Requirement already satisfied: markdown>=2.6.8 in d:\\anaconda\\lib\\site-packages (from tensorboard~=2.19.0->tensorflow<2.20,>=2.19->tf-keras) (3.7)\n",
      "Requirement already satisfied: tensorboard-data-server<0.8.0,>=0.7.0 in d:\\anaconda\\lib\\site-packages (from tensorboard~=2.19.0->tensorflow<2.20,>=2.19->tf-keras) (0.7.2)\n",
      "Requirement already satisfied: werkzeug>=1.0.1 in d:\\anaconda\\lib\\site-packages (from tensorboard~=2.19.0->tensorflow<2.20,>=2.19->tf-keras) (3.0.3)\n",
      "Requirement already satisfied: MarkupSafe>=2.1.1 in d:\\anaconda\\lib\\site-packages (from werkzeug>=1.0.1->tensorboard~=2.19.0->tensorflow<2.20,>=2.19->tf-keras) (2.1.3)\n",
      "Requirement already satisfied: markdown-it-py>=2.2.0 in d:\\anaconda\\lib\\site-packages (from rich->keras>=3.5.0->tensorflow<2.20,>=2.19->tf-keras) (2.2.0)\n",
      "Requirement already satisfied: pygments<3.0.0,>=2.13.0 in d:\\anaconda\\lib\\site-packages (from rich->keras>=3.5.0->tensorflow<2.20,>=2.19->tf-keras) (2.15.1)\n",
      "Requirement already satisfied: mdurl~=0.1 in d:\\anaconda\\lib\\site-packages (from markdown-it-py>=2.2.0->rich->keras>=3.5.0->tensorflow<2.20,>=2.19->tf-keras) (0.1.0)\n"
     ]
    }
   ],
   "source": [
    "!pip install tf-keras"
   ]
  },
  {
   "cell_type": "code",
   "execution_count": 73,
   "id": "f93c0718-306a-4680-a788-88e7a067b0c2",
   "metadata": {},
   "outputs": [
    {
     "name": "stdout",
     "output_type": "stream",
     "text": [
      "Requirement already satisfied: langchain-community in d:\\anaconda\\lib\\site-packages (0.3.26)\n",
      "Requirement already satisfied: langchain-core<1.0.0,>=0.3.66 in d:\\anaconda\\lib\\site-packages (from langchain-community) (0.3.66)\n",
      "Requirement already satisfied: langchain<1.0.0,>=0.3.26 in d:\\anaconda\\lib\\site-packages (from langchain-community) (0.3.26)\n",
      "Requirement already satisfied: SQLAlchemy<3,>=1.4 in d:\\anaconda\\lib\\site-packages (from langchain-community) (2.0.34)\n",
      "Requirement already satisfied: requests<3,>=2 in d:\\anaconda\\lib\\site-packages (from langchain-community) (2.32.3)\n",
      "Requirement already satisfied: PyYAML>=5.3 in d:\\anaconda\\lib\\site-packages (from langchain-community) (6.0.1)\n",
      "Requirement already satisfied: aiohttp<4.0.0,>=3.8.3 in d:\\anaconda\\lib\\site-packages (from langchain-community) (3.10.5)\n",
      "Requirement already satisfied: tenacity!=8.4.0,<10,>=8.1.0 in d:\\anaconda\\lib\\site-packages (from langchain-community) (8.2.3)\n",
      "Requirement already satisfied: dataclasses-json<0.7,>=0.5.7 in d:\\anaconda\\lib\\site-packages (from langchain-community) (0.6.7)\n",
      "Requirement already satisfied: pydantic-settings<3.0.0,>=2.4.0 in d:\\anaconda\\lib\\site-packages (from langchain-community) (2.7.1)\n",
      "Requirement already satisfied: langsmith>=0.1.125 in d:\\anaconda\\lib\\site-packages (from langchain-community) (0.3.45)\n",
      "Requirement already satisfied: httpx-sse<1.0.0,>=0.4.0 in d:\\anaconda\\lib\\site-packages (from langchain-community) (0.4.0)\n",
      "Requirement already satisfied: numpy>=1.26.2 in d:\\anaconda\\lib\\site-packages (from langchain-community) (1.26.4)\n",
      "Requirement already satisfied: aiohappyeyeballs>=2.3.0 in d:\\anaconda\\lib\\site-packages (from aiohttp<4.0.0,>=3.8.3->langchain-community) (2.4.0)\n",
      "Requirement already satisfied: aiosignal>=1.1.2 in d:\\anaconda\\lib\\site-packages (from aiohttp<4.0.0,>=3.8.3->langchain-community) (1.2.0)\n",
      "Requirement already satisfied: attrs>=17.3.0 in d:\\anaconda\\lib\\site-packages (from aiohttp<4.0.0,>=3.8.3->langchain-community) (25.1.0)\n",
      "Requirement already satisfied: frozenlist>=1.1.1 in d:\\anaconda\\lib\\site-packages (from aiohttp<4.0.0,>=3.8.3->langchain-community) (1.4.0)\n",
      "Requirement already satisfied: multidict<7.0,>=4.5 in d:\\anaconda\\lib\\site-packages (from aiohttp<4.0.0,>=3.8.3->langchain-community) (6.0.4)\n",
      "Requirement already satisfied: yarl<2.0,>=1.0 in d:\\anaconda\\lib\\site-packages (from aiohttp<4.0.0,>=3.8.3->langchain-community) (1.11.0)\n",
      "Requirement already satisfied: marshmallow<4.0.0,>=3.18.0 in d:\\anaconda\\lib\\site-packages (from dataclasses-json<0.7,>=0.5.7->langchain-community) (3.26.1)\n",
      "Requirement already satisfied: typing-inspect<1,>=0.4.0 in d:\\anaconda\\lib\\site-packages (from dataclasses-json<0.7,>=0.5.7->langchain-community) (0.9.0)\n",
      "Requirement already satisfied: langchain-text-splitters<1.0.0,>=0.3.8 in d:\\anaconda\\lib\\site-packages (from langchain<1.0.0,>=0.3.26->langchain-community) (0.3.8)\n",
      "Requirement already satisfied: pydantic<3.0.0,>=2.7.4 in d:\\anaconda\\lib\\site-packages (from langchain<1.0.0,>=0.3.26->langchain-community) (2.8.2)\n",
      "Requirement already satisfied: jsonpatch<2.0,>=1.33 in d:\\anaconda\\lib\\site-packages (from langchain-core<1.0.0,>=0.3.66->langchain-community) (1.33)\n",
      "Requirement already satisfied: packaging<25,>=23.2 in d:\\anaconda\\lib\\site-packages (from langchain-core<1.0.0,>=0.3.66->langchain-community) (24.1)\n",
      "Requirement already satisfied: typing-extensions>=4.7 in d:\\anaconda\\lib\\site-packages (from langchain-core<1.0.0,>=0.3.66->langchain-community) (4.11.0)\n",
      "Requirement already satisfied: httpx<1,>=0.23.0 in d:\\anaconda\\lib\\site-packages (from langsmith>=0.1.125->langchain-community) (0.27.0)\n",
      "Requirement already satisfied: orjson<4.0.0,>=3.9.14 in d:\\anaconda\\lib\\site-packages (from langsmith>=0.1.125->langchain-community) (3.10.15)\n",
      "Requirement already satisfied: requests-toolbelt<2.0.0,>=1.0.0 in d:\\anaconda\\lib\\site-packages (from langsmith>=0.1.125->langchain-community) (1.0.0)\n",
      "Requirement already satisfied: zstandard<0.24.0,>=0.23.0 in d:\\anaconda\\lib\\site-packages (from langsmith>=0.1.125->langchain-community) (0.23.0)\n",
      "Requirement already satisfied: python-dotenv>=0.21.0 in d:\\anaconda\\lib\\site-packages (from pydantic-settings<3.0.0,>=2.4.0->langchain-community) (0.21.0)\n",
      "Requirement already satisfied: charset-normalizer<4,>=2 in d:\\anaconda\\lib\\site-packages (from requests<3,>=2->langchain-community) (3.3.2)\n",
      "Requirement already satisfied: idna<4,>=2.5 in d:\\anaconda\\lib\\site-packages (from requests<3,>=2->langchain-community) (3.7)\n",
      "Requirement already satisfied: urllib3<3,>=1.21.1 in d:\\anaconda\\lib\\site-packages (from requests<3,>=2->langchain-community) (2.2.3)\n",
      "Requirement already satisfied: certifi>=2017.4.17 in d:\\anaconda\\lib\\site-packages (from requests<3,>=2->langchain-community) (2024.8.30)\n",
      "Requirement already satisfied: greenlet!=0.4.17 in d:\\anaconda\\lib\\site-packages (from SQLAlchemy<3,>=1.4->langchain-community) (3.0.1)\n",
      "Requirement already satisfied: anyio in d:\\anaconda\\lib\\site-packages (from httpx<1,>=0.23.0->langsmith>=0.1.125->langchain-community) (4.2.0)\n",
      "Requirement already satisfied: httpcore==1.* in d:\\anaconda\\lib\\site-packages (from httpx<1,>=0.23.0->langsmith>=0.1.125->langchain-community) (1.0.2)\n",
      "Requirement already satisfied: sniffio in d:\\anaconda\\lib\\site-packages (from httpx<1,>=0.23.0->langsmith>=0.1.125->langchain-community) (1.3.0)\n",
      "Requirement already satisfied: h11<0.15,>=0.13 in d:\\anaconda\\lib\\site-packages (from httpcore==1.*->httpx<1,>=0.23.0->langsmith>=0.1.125->langchain-community) (0.14.0)\n",
      "Requirement already satisfied: jsonpointer>=1.9 in d:\\anaconda\\lib\\site-packages (from jsonpatch<2.0,>=1.33->langchain-core<1.0.0,>=0.3.66->langchain-community) (2.1)\n",
      "Requirement already satisfied: annotated-types>=0.4.0 in d:\\anaconda\\lib\\site-packages (from pydantic<3.0.0,>=2.7.4->langchain<1.0.0,>=0.3.26->langchain-community) (0.6.0)\n",
      "Requirement already satisfied: pydantic-core==2.20.1 in d:\\anaconda\\lib\\site-packages (from pydantic<3.0.0,>=2.7.4->langchain<1.0.0,>=0.3.26->langchain-community) (2.20.1)\n",
      "Requirement already satisfied: mypy-extensions>=0.3.0 in d:\\anaconda\\lib\\site-packages (from typing-inspect<1,>=0.4.0->dataclasses-json<0.7,>=0.5.7->langchain-community) (1.0.0)\n",
      "Note: you may need to restart the kernel to use updated packages.\n"
     ]
    }
   ],
   "source": [
    "pip install -U langchain-community"
   ]
  },
  {
   "cell_type": "code",
   "execution_count": 74,
   "id": "2f7d8b76-82c8-4302-a46f-8a39965b29f4",
   "metadata": {},
   "outputs": [],
   "source": [
    "from PyPDF2 import PdfReader\n",
    "from langchain.text_splitter import RecursiveCharacterTextSplitter\n",
    "from langchain_huggingface import HuggingFaceEmbeddings\n",
    "from langchain_community.vectorstores import FAISS\n",
    "from langchain_groq import ChatGroq\n",
    "from langchain.chains.question_answering import load_qa_chain\n",
    "import warnings\n",
    "warnings.filterwarnings('ignore')\n"
   ]
  },
  {
   "cell_type": "code",
   "execution_count": 75,
   "id": "fb3a111a-dacd-437e-bdbb-204ce5dc2c7d",
   "metadata": {},
   "outputs": [
    {
     "name": "stdout",
     "output_type": "stream",
     "text": [
      "<PyPDF2._reader.PdfReader object at 0x000001A84461DBB0>\n"
     ]
    }
   ],
   "source": [
    "pdf = \"KunalPuniaResume.pdf\"\n",
    "pdf_reader = PdfReader(pdf)\n",
    "print(pdf_reader)"
   ]
  },
  {
   "cell_type": "code",
   "execution_count": 76,
   "id": "e16c82f0-2014-4b9d-b3c5-b6450b1824d1",
   "metadata": {},
   "outputs": [
    {
     "name": "stdout",
     "output_type": "stream",
     "text": [
      "Kunal Punia\n",
      "kunalpunia821@gmail.com |+91-766-807-02-94 |Leetcode |linkedin |github |GFG\n",
      "Experience\n",
      "Frontend Developer Intern, MV Clouds Pvt. Ltd., Ahmedabad June 2024 – July 2024\n",
      "•Built multiple responsive web projects with HTML, CSS, JavaScript, and React.js, focusing on performance and\n",
      "UI/UX best practices.\n",
      "•Demonstrated strong work ethic, problem-solving abilities, and a keen interest in frontend design patterns.\n",
      "Frontend Development Intern, Edunet Foundation June 2024 – Aug 2024\n",
      "•Created and improved portfolio websites, enhancing user experience and reducing bounce rates through\n",
      "well-structured layouts.\n",
      "•Leveraged technologies like HTML, CSS, and JavaScript to create visually appealing and functional web pages.\n",
      "Education\n",
      "SRM AP UNIVERSITY , B.Tech in Computer Science and Engineering\n",
      "GPA: 8.76/102022–2026\n",
      "Amaravati, India\n",
      "Sainik School Amaravathinagar , Higher Secondary Certificate\n",
      "12th Grade Percentage: 85.22018–2022\n",
      "Coimbatore, India\n",
      "Projects\n",
      "Stock Market Time Series Forecasting (Python, Streamlit, YFinance, Prophet, Plotly,\n",
      "Scikit-learn )ὑ7\n",
      "•Developed a web app to forecast stock market trends using historical data, enabling users to compare\n",
      "predictions across different forecasting methods with interactive visualizations.\n",
      "•Implemented a Generalized Additive Model (GAM) optimized via Bayesian techniques, combining\n",
      "linear/logistic trend estimation, Fourier-based seasonality, and holiday effects for improved predictive accuracy.\n",
      "Customer Churn Prediction (Flask, MySQL, Twilio, XGBoost, Scikit-learn, Pandas,\n",
      "NumPy, Jinja2, Seaborn )ὑ7\n",
      "•Developed a full-stack customer churn prediction system using XGBoost for modeling, Flask for backend, and\n",
      "MySQL for data storage, enabling users to predict churn risks and track history securely with OTP-based\n",
      "authentication via Twilio.\n",
      "•Implemented dynamic web pages using Jinja2 templating and visualized data insights with Seaborn during\n",
      "exploratory data analysis (EDA), enhancing user experience and data interpretation.\n",
      "AI Resume Analyzer & LinkedIn Job Scraper using Generative AI (Streamlit,\n",
      "OpenAI API, Selenium, LangChain, FAISS, Python, Pandas, NumPy )ὑ7\n",
      "•Developed an AI-powered resume analyzer using OpenAI API andLangChain for summarizing resumes,\n",
      "evaluating strengths and weaknesses, and offering personalized job title suggestions, with FAISS for efficient\n",
      "text retrieval and improved matching accuracy.\n",
      "•Built a Selenium-based LinkedIn job scraper to automate the extraction of real-time job postings, including\n",
      "company names, roles, locations, and descriptions, seamlessly linking them to user resumes for optimized job\n",
      "search recommendations.\n",
      "SKILLS\n",
      "Programming & Development: Python, C++, JavaScript, HTML, CSS, React.js, Flask, Object-Oriented\n",
      "Programming (OOP) , Data Structures Algorithms (DSA)\n",
      "Data Analysis & Visualization: Pandas, NumPy, Scikit-learn, Matplotlib, Seaborn, SQL, Excel, Power BI, Tableau\n",
      "Machine Learning & Deep Learning: Regression, Classification, XGBoost, Random Forest, ANN, CNN, RNN,\n",
      "Transformers; end-to-end model building and evaluation\n",
      "Generative AI & NLP: LangChain, OpenAI API, Hugging Face, FAISS, Retrieval-Augmented Generation (RAG) , AI\n",
      "Agent Design, Text Preprocessing, Tokenization, prompt engineering\n",
      "MLOps & Deployment: Streamlit, Flask, GitHub Actions, Docker\n",
      "Version Control: Git, GitHub, Jupyter Notebook, VS Code, MySQL, Twilio, Selenium\n"
     ]
    }
   ],
   "source": [
    "# extrat text from each page separately\n",
    "text = \"\"\n",
    "for page in pdf_reader.pages:\n",
    "    text += page.extract_text()\n",
    "\n",
    "print(text)"
   ]
  },
  {
   "cell_type": "code",
   "execution_count": 77,
   "id": "7fcd6773-ab4e-4429-9b39-3e992a340d16",
   "metadata": {},
   "outputs": [
    {
     "data": {
      "text/plain": [
       "['Kunal Punia\\nkunalpunia821@gmail.com |+91-766-807-02-94 |Leetcode |linkedin |github |GFG\\nExperience\\nFrontend Developer Intern, MV Clouds Pvt. Ltd., Ahmedabad June 2024 – July 2024\\n•Built multiple responsive web projects with HTML, CSS, JavaScript, and React.js, focusing on performance and\\nUI/UX best practices.\\n•Demonstrated strong work ethic, problem-solving abilities, and a keen interest in frontend design patterns.\\nFrontend Development Intern, Edunet Foundation June 2024 – Aug 2024\\n•Created and improved portfolio websites, enhancing user experience and reducing bounce rates through\\nwell-structured layouts.',\n",
       " 'Frontend Development Intern, Edunet Foundation June 2024 – Aug 2024\\n•Created and improved portfolio websites, enhancing user experience and reducing bounce rates through\\nwell-structured layouts.\\n•Leveraged technologies like HTML, CSS, and JavaScript to create visually appealing and functional web pages.\\nEducation\\nSRM AP UNIVERSITY , B.Tech in Computer Science and Engineering\\nGPA: 8.76/102022–2026\\nAmaravati, India\\nSainik School Amaravathinagar , Higher Secondary Certificate\\n12th Grade Percentage: 85.22018–2022\\nCoimbatore, India\\nProjects\\nStock Market Time Series Forecasting (Python, Streamlit, YFinance, Prophet, Plotly,\\nScikit-learn )ὑ7',\n",
       " '12th Grade Percentage: 85.22018–2022\\nCoimbatore, India\\nProjects\\nStock Market Time Series Forecasting (Python, Streamlit, YFinance, Prophet, Plotly,\\nScikit-learn )ὑ7\\n•Developed a web app to forecast stock market trends using historical data, enabling users to compare\\npredictions across different forecasting methods with interactive visualizations.\\n•Implemented a Generalized Additive Model (GAM) optimized via Bayesian techniques, combining\\nlinear/logistic trend estimation, Fourier-based seasonality, and holiday effects for improved predictive accuracy.\\nCustomer Churn Prediction (Flask, MySQL, Twilio, XGBoost, Scikit-learn, Pandas,\\nNumPy, Jinja2, Seaborn )ὑ7',\n",
       " 'Customer Churn Prediction (Flask, MySQL, Twilio, XGBoost, Scikit-learn, Pandas,\\nNumPy, Jinja2, Seaborn )ὑ7\\n•Developed a full-stack customer churn prediction system using XGBoost for modeling, Flask for backend, and\\nMySQL for data storage, enabling users to predict churn risks and track history securely with OTP-based\\nauthentication via Twilio.\\n•Implemented dynamic web pages using Jinja2 templating and visualized data insights with Seaborn during\\nexploratory data analysis (EDA), enhancing user experience and data interpretation.\\nAI Resume Analyzer & LinkedIn Job Scraper using Generative AI (Streamlit,\\nOpenAI API, Selenium, LangChain, FAISS, Python, Pandas, NumPy )ὑ7',\n",
       " 'AI Resume Analyzer & LinkedIn Job Scraper using Generative AI (Streamlit,\\nOpenAI API, Selenium, LangChain, FAISS, Python, Pandas, NumPy )ὑ7\\n•Developed an AI-powered resume analyzer using OpenAI API andLangChain for summarizing resumes,\\nevaluating strengths and weaknesses, and offering personalized job title suggestions, with FAISS for efficient\\ntext retrieval and improved matching accuracy.\\n•Built a Selenium-based LinkedIn job scraper to automate the extraction of real-time job postings, including\\ncompany names, roles, locations, and descriptions, seamlessly linking them to user resumes for optimized job\\nsearch recommendations.\\nSKILLS',\n",
       " 'company names, roles, locations, and descriptions, seamlessly linking them to user resumes for optimized job\\nsearch recommendations.\\nSKILLS\\nProgramming & Development: Python, C++, JavaScript, HTML, CSS, React.js, Flask, Object-Oriented\\nProgramming (OOP) , Data Structures Algorithms (DSA)\\nData Analysis & Visualization: Pandas, NumPy, Scikit-learn, Matplotlib, Seaborn, SQL, Excel, Power BI, Tableau\\nMachine Learning & Deep Learning: Regression, Classification, XGBoost, Random Forest, ANN, CNN, RNN,\\nTransformers; end-to-end model building and evaluation\\nGenerative AI & NLP: LangChain, OpenAI API, Hugging Face, FAISS, Retrieval-Augmented Generation (RAG) , AI',\n",
       " 'Transformers; end-to-end model building and evaluation\\nGenerative AI & NLP: LangChain, OpenAI API, Hugging Face, FAISS, Retrieval-Augmented Generation (RAG) , AI\\nAgent Design, Text Preprocessing, Tokenization, prompt engineering\\nMLOps & Deployment: Streamlit, Flask, GitHub Actions, Docker\\nVersion Control: Git, GitHub, Jupyter Notebook, VS Code, MySQL, Twilio, Selenium']"
      ]
     },
     "execution_count": 77,
     "metadata": {},
     "output_type": "execute_result"
    }
   ],
   "source": [
    "# Split the long text into small chunks\n",
    "text_splitter = RecursiveCharacterTextSplitter(chunk_size=700,\n",
    "                                               chunk_overlap=200,\n",
    "                                               length_function=len)\n",
    "\n",
    "chunks = text_splitter.split_text(text=text)\n",
    "chunks"
   ]
  },
  {
   "cell_type": "code",
   "execution_count": 78,
   "id": "33ea3b93-cbe3-4379-b347-9356f410f360",
   "metadata": {},
   "outputs": [
    {
     "data": {
      "text/plain": [
       "'Kunal Punia\\nkunalpunia821@gmail.com |+91-766-807-02-94 |Leetcode |linkedin |github |GFG\\nExperience\\nFrontend Developer Intern, MV Clouds Pvt. Ltd., Ahmedabad June 2024 – July 2024\\n•Built multiple responsive web projects with HTML, CSS, JavaScript, and React.js, focusing on performance and\\nUI/UX best practices.\\n•Demonstrated strong work ethic, problem-solving abilities, and a keen interest in frontend design patterns.\\nFrontend Development Intern, Edunet Foundation June 2024 – Aug 2024\\n•Created and improved portfolio websites, enhancing user experience and reducing bounce rates through\\nwell-structured layouts.'"
      ]
     },
     "execution_count": 78,
     "metadata": {},
     "output_type": "execute_result"
    }
   ],
   "source": [
    "chunks[0]"
   ]
  },
  {
   "cell_type": "code",
   "execution_count": 79,
   "id": "5defb6ef-4d9e-4e1b-96bf-f76247018362",
   "metadata": {},
   "outputs": [
    {
     "data": {
      "text/plain": [
       "'Frontend Development Intern, Edunet Foundation June 2024 – Aug 2024\\n•Created and improved portfolio websites, enhancing user experience and reducing bounce rates through\\nwell-structured layouts.\\n•Leveraged technologies like HTML, CSS, and JavaScript to create visually appealing and functional web pages.\\nEducation\\nSRM AP UNIVERSITY , B.Tech in Computer Science and Engineering\\nGPA: 8.76/102022–2026\\nAmaravati, India\\nSainik School Amaravathinagar , Higher Secondary Certificate\\n12th Grade Percentage: 85.22018–2022\\nCoimbatore, India\\nProjects\\nStock Market Time Series Forecasting (Python, Streamlit, YFinance, Prophet, Plotly,\\nScikit-learn )ὑ7'"
      ]
     },
     "execution_count": 79,
     "metadata": {},
     "output_type": "execute_result"
    }
   ],
   "source": [
    "chunks[1]"
   ]
  },
  {
   "cell_type": "code",
   "execution_count": 80,
   "id": "30312045-96a7-4e4e-9a94-9d8bed59041b",
   "metadata": {},
   "outputs": [],
   "source": [
    "import os"
   ]
  },
  {
   "cell_type": "code",
   "execution_count": 81,
   "id": "38db5390-2b10-4a5b-a0d5-676d57fd7bcd",
   "metadata": {},
   "outputs": [],
   "source": [
    "groq_api_key = \"gsk_Vuss4ugGXF\"\n",
    "os.environ[\"HUGGINGFACEHUB_API_TOKEN\"] = \"jeuPBClAoThtwF\""
   ]
  },
  {
   "cell_type": "code",
   "execution_count": 82,
   "id": "a08e216c-823f-4b00-aef4-3cd64f430264",
   "metadata": {},
   "outputs": [],
   "source": [
    "llm = ChatGroq(\n",
    "    model_name=\"llama3-8b-8192\",  # or `mixtral-8x7b-32768`\n",
    ")"
   ]
  },
  {
   "cell_type": "code",
   "execution_count": 83,
   "id": "de5db2a0-6f3d-4c41-a90e-181f96b75a45",
   "metadata": {},
   "outputs": [],
   "source": [
    "response = llm.invoke(\"Explain me about the cricket in 100 line?\")"
   ]
  },
  {
   "cell_type": "code",
   "execution_count": 84,
   "id": "12d5f1be-5c9f-458c-a2b7-01a74c3d02a4",
   "metadata": {},
   "outputs": [
    {
     "name": "stdout",
     "output_type": "stream",
     "text": [
      "Cricket is a popular team sport played with a bat and ball on a grass pitch. Here's a brief overview:\n",
      "\n",
      "**Gameplay**: Two teams of 11 players each take turns to bat and bowl. The objective is to score runs by hitting the ball and running between wickets.\n",
      "\n",
      "**Equipment**: The game requires a cricket bat, ball, wickets (three vertical stumps and two horizontal stumps), and protective gear like helmets and pads.\n",
      "\n",
      "**Types of deliveries**: The bowler delivers the ball in different ways, including fast balls, spin balls, and swing balls, which make it challenging for batsmen to hit.\n",
      "\n",
      "**Shots**: Batsmen play various shots, such as drives, cuts, pulls, and hooks, to score runs. The type of shot depends on the type of delivery and the batsman's skill.\n",
      "\n",
      "**Ways to get out**: A batsman can get out in several ways, including bowled (hit by the ball), lbw (leg before wicket), caught (hit by the ball and caught by a fielder), and stumped (hit by the ball while trying to score a run).\n",
      "\n",
      "**Innings**: Each team plays two innings, with a break in between. The team with the higher score at the end of both innings wins the match.\n",
      "\n",
      "**Variations**: There are several formats of cricket, including Test matches (longest and most traditional), One-Day Internationals (ODIs), and Twenty20 (T20) matches (short and fast-paced).\n",
      "\n",
      "**International competitions**: Cricket is played at international level, with teams representing their countries. The International Cricket Council (ICC) governs the sport and organizes major tournaments like the World Cup and Champions Trophy.\n",
      "\n",
      "**Popularity**: Cricket is extremely popular in many countries, including Australia, India, Pakistan, England, and the West Indies. It's a popular sport globally, with a huge fan base and a rich history.\n"
     ]
    }
   ],
   "source": [
    "print(response.content)"
   ]
  },
  {
   "cell_type": "code",
   "execution_count": 85,
   "id": "7045a2f5-86e9-4f3d-b374-c054c050c9bf",
   "metadata": {},
   "outputs": [],
   "source": [
    "#This working well"
   ]
  },
  {
   "cell_type": "code",
   "execution_count": 86,
   "id": "68e33869-370b-410e-8516-5617f0385a58",
   "metadata": {},
   "outputs": [],
   "source": [
    "def groq_llm(groq_api_key, chunks, analyze):\n",
    "    # Embeddings (you can replace with OpenAIEmbeddings if needed)\n",
    "    embeddings = HuggingFaceEmbeddings(model_name=\"sentence-transformers/all-MiniLM-L6-v2\")\n",
    "\n",
    "    # Create a FAISS vector store from text chunks\n",
    "    vectorstores = FAISS.from_texts(chunks, embedding=embeddings)\n",
    "\n",
    "    # Search for similar documents\n",
    "    docs = vectorstores.similarity_search(query=analyze, k=3)\n",
    "\n",
    "    # Initialize ChatGroq with LLaMA3 model\n",
    "    llm = ChatGroq(\n",
    "        model_name=\"llama3-8b-8192\"\n",
    "    )\n",
    "\n",
    "    # Load QA chain\n",
    "    chain = load_qa_chain(llm=llm, chain_type='stuff')\n",
    "\n",
    "    # Run the chain\n",
    "    response = chain.run(input_documents=docs, question=analyze)\n",
    "\n",
    "    return response"
   ]
  },
  {
   "cell_type": "code",
   "execution_count": 87,
   "id": "c6a02a11-bb0e-4465-bee3-c40e52999ee3",
   "metadata": {},
   "outputs": [
    {
     "name": "stdout",
     "output_type": "stream",
     "text": [
      "Here is a detailed summarization of the resume:\n",
      "\n",
      "**Education**\n",
      "\n",
      "* B.Tech in Computer Science and Engineering from SRM AP UNIVERSITY (2022-2026) with a GPA of 8.76\n",
      "* Higher Secondary Certificate from Sainik School Amaravathinagar (2018-2022) with a percentage of 85.22\n",
      "\n",
      "**Experience**\n",
      "\n",
      "* Frontend Developer Intern at MV Clouds Pvt. Ltd., Ahmedabad (June 2024 - July 2024)\n",
      "\t+ Built multiple responsive web projects with HTML, CSS, JavaScript, and React.js\n",
      "\t+ Demonstrated strong work ethic, problem-solving abilities, and a keen interest in frontend design patterns\n",
      "* Frontend Development Intern at Edunet Foundation (June 2024 - Aug 2024)\n",
      "\t+ Created and improved portfolio websites, enhancing user experience and reducing bounce rates\n",
      "\t+ Leveraged technologies like HTML, CSS, and JavaScript to create visually appealing and functional web pages\n",
      "\n",
      "**Projects**\n",
      "\n",
      "* Stock Market Time Series Forecasting (Python, Streamlit, YFinance, Prophet, Plotly, Scikit-learn)\n",
      "\t+ Developed a web app to forecast stock market trends using historical data\n",
      "\t+ Implemented a Generalized Additive Model (GAM) optimized via Bayesian techniques\n",
      "* Customer Churn Prediction (Flask, MySQL, Twilio, XGBoost, Scikit-learn, Pandas, NumPy, Jinja2, Seaborn)\n",
      "\t+ Developed a full-stack customer churn prediction system using XGBoost for modeling, Flask for backend, and MySQL for data storage\n",
      "\t+ Implemented dynamic web pages using Jinja2 templating and visualized data insights with Seaborn\n",
      "* AI Resume Analyzer & LinkedIn Job Scraper using Generative AI (Streamlit, OpenAI API, Selenium, LangChain, FAISS, Python, Pandas, NumPy)\n",
      "\t+ Developed an AI-powered resume analyzer using OpenAI API and LangChain\n",
      "\t+ Built a Selenium-based LinkedIn job scraper to automate the extraction of real-time job postings\n",
      "\n",
      "**Skills**\n",
      "\n",
      "* Programming & Development: Python, C++, JavaScript, HTML, CSS, React.js, Flask, Object-Oriented Programming (OOP), Data Structures Algorithms (DSA)\n",
      "* Data Analysis & Visualization: Pandas, NumPy, Scikit-learn, Matplotlib, Seaborn, SQL, Excel, Power BI, Tableau\n",
      "* Machine Learning & Deep Learning: Regression, Classification, XGBoost, Random Forest, ANN, CNN, RNN, Transformers; end-to-end model building and evaluation\n",
      "* Generative AI & NLP: LangChain, OpenAI API, Hugging Face, FAISS, Retrieval-Augmented Generation (RAG), AI\n",
      "\n",
      "**Conclusion**\n",
      "\n",
      "Kunal Punia is a frontend developer with experience in building responsive web projects using HTML, CSS, JavaScript, and React.js. He has also worked on various projects, including stock market time series forecasting, customer churn prediction, and AI-powered resume analysis. Kunal has a strong foundation in programming languages, data analysis, and machine learning, with skills in Python, C++, JavaScript, and other technologies. He is proficient in using various tools and technologies, including Streamlit, OpenAI API, Selenium, LangChain, FAISS, and more.\n"
     ]
    }
   ],
   "source": [
    "def resume_summary(query_with_chunks):\n",
    "    query = f'''Need a detailed summarization of the below resume and a final conclusion:\n",
    "\n",
    "\"\"\"\"\"\"\"\"\"\"\"\"\"\"\"\"\"\"\"\"\"\"\"\"\"\"\"\"\"\"\"\"\"\"\"\"\"\"\"\"\"\"\"\"\"\"\"\"\"\"\"\"\"\"\"\"\"\"\"\"\"\"\"\"\"\"\"\"\"\"\"\n",
    "{query_with_chunks}\n",
    "\"\"\"\"\"\"\"\"\"\"\"\"\"\"\"\"\"\"\"\"\"\"\"\"\"\"\"\"\"\"\"\"\"\"\"\"\"\"\"\"\"\"\"\"\"\"\"\"\"\"\"\"\"\"\"\"\"\"\"\"\"\"\"\"\"\"\"\"\"\"\"\n",
    "'''\n",
    "    return query\n",
    "\n",
    "# Create the summarization query\n",
    "summary = resume_summary(query_with_chunks=chunks)\n",
    "\n",
    "# Call the Groq-based LLM function\n",
    "summary_result = groq_llm(groq_api_key=groq_api_key, chunks=chunks, analyze=summary)\n",
    "\n",
    "# Print the result\n",
    "print(summary_result)\n"
   ]
  },
  {
   "cell_type": "code",
   "execution_count": 88,
   "id": "4cb34228-1510-40da-90db-8824f442deea",
   "metadata": {},
   "outputs": [
    {
     "name": "stdout",
     "output_type": "stream",
     "text": [
      "Here's a detailed analysis and explanation of the strengths of the given resume:\n",
      "\n",
      "Strengths:\n",
      "\n",
      "1. **Technical Skills**: Kunal Punia has a wide range of technical skills, including programming languages (Python, C++, JavaScript), web development technologies (HTML, CSS, React.js, Flask), data analysis and visualization tools (Pandas, NumPy, Scikit-learn, Matplotlib, Seaborn, SQL, Excel, Power BI, Tableau), and machine learning and deep learning techniques (Regression, Classification, XGBoost, Random Forest, ANN, CNN, RNN, Transformers). This showcases his versatility and ability to work with various tools and technologies.\n",
      "\n",
      "2. **Project Experience**: Kunal has worked on several projects that demonstrate his skills and accomplishments. These projects include stock market time series forecasting, customer churn prediction, and AI-powered resume analysis. Each project showcases his ability to apply his technical skills to real-world problems and deliver tangible results.\n",
      "\n",
      "3. **Internship Experience**: Kunal has gained internship experience in frontend development, working on multiple responsive web projects with HTML, CSS, JavaScript, and React.js. This internship experience has helped him develop a strong work ethic, problem-solving abilities, and a keen interest in frontend design patterns.\n",
      "\n",
      "4. **Academic Achievements**: Kunal has a high GPA of 8.76 in his B.Tech in Computer Science and Engineering from SRM AP UNIVERSITY (2022-2026). This academic achievement demonstrates his strong foundation in computer science and his ability to excel in a demanding academic environment.\n",
      "\n",
      "5. **Soft Skills**: Kunal has demonstrated strong soft skills, including problem-solving abilities, a keen interest in frontend design patterns, and a strong work ethic. These skills are essential for success in any profession and show that Kunal is a team player who can work effectively with others.\n",
      "\n",
      "6. **AI and NLP Skills**: Kunal has gained skills in AI and NLP, including LangChain, OpenAI API, Hugging Face, FAISS, Retrieval-Augmented Generation (RAG), and AI. This is a growing and in-demand field, and Kunal's skills in this area make him a competitive candidate in the job market.\n",
      "\n",
      "7. **Curated Skills Section**: Kunal's skills section is well-crafted and easy to read. It provides a clear overview of his technical skills and experience, making it easy for potential employers to quickly assess his qualifications.\n",
      "\n",
      "8. **Project-based Learning**: Kunal has a strong focus on project-based learning, which is essential for developing practical skills and experience. His projects demonstrate his ability to apply theoretical knowledge to real-world problems and deliver tangible results.\n",
      "\n",
      "9. **Continuous Learning**: Kunal's resume shows a commitment to continuous learning and professional development. He is always looking to improve his skills and stay up-to-date with the latest technologies and trends.\n",
      "\n",
      "10. **Effective Use of Keywords**: Kunal's resume effectively uses relevant keywords and phrases, making it more likely to be discovered by applicant tracking systems and recruiters.\n",
      "\n",
      "In conclusion, Kunal Punia's resume showcases his strengths in technical skills, project experience, internship experience, academic achievements, soft skills, AI and NLP skills, curated skills section, project-based learning, continuous learning, and effective use of keywords. These strengths make him a competitive candidate in the job market and demonstrate his potential for success in a wide range of roles.\n"
     ]
    }
   ],
   "source": [
    "def resume_strength(query_with_chunks):\n",
    "    query = f'''need to detailed analysis and explain of the strength of below resume and finally conclude them\n",
    "                \"\"\"\"\"\"\"\"\"\"\"\"\"\"\"\"\"\"\"\"\"\"\"\"\"\"\"\"\"\"\"\"\"\"\"\"\"\"\"\"\"\"\"\"\"\"\"\"\"\"\"\"\"\"\"\"\"\"\"\"\"\"\"\"\"\"\"\"\"\"\"\n",
    "                {query_with_chunks}\n",
    "                \"\"\"\"\"\"\"\"\"\"\"\"\"\"\"\"\"\"\"\"\"\"\"\"\"\"\"\"\"\"\"\"\"\"\"\"\"\"\"\"\"\"\"\"\"\"\"\"\"\"\"\"\"\"\"\"\"\"\"\"\"\"\"\"\"\"\"\"\"\"\"\n",
    "                '''\n",
    "    return query\n",
    "\n",
    "strength = resume_strength(query_with_chunks=summary_result)\n",
    "strength_result = groq_llm(groq_api_key=groq_api_key, chunks=chunks, analyze=strength)\n",
    "print(strength_result)"
   ]
  },
  {
   "cell_type": "code",
   "execution_count": 93,
   "id": "55946c6d-e6c4-46b5-8eb2-3d8e54ab4237",
   "metadata": {},
   "outputs": [
    {
     "name": "stdout",
     "output_type": "stream",
     "text": [
      "Based on the provided resume content, the following are the identified weaknesses, gaps, or areas of improvement:\n",
      "\n",
      "**Weaknesses:**\n",
      "\n",
      "1. Areas that are vague, unclear, or generic:\n",
      "\t* The summary and conclusion sections are quite generic and do not provide specific examples or achievements.\n",
      "\t* The \"strong work ethic, problem-solving abilities, and a keen interest in frontend design patterns\" mentioned in the internship experience are too vague and could be replaced with specific examples.\n",
      "2. Missing or weak skills for targeted roles:\n",
      "\t* The resume lacks specific skills or technologies relevant to the frontend development role, such as React Native, Angular, or Vue.js.\n",
      "\t* The lack of experience with version control systems like Git is notable, especially for a frontend developer.\n",
      "3. Structural or formatting flaws:\n",
      "\t* The formatting of the skills section is unclear, making it difficult to read and understand the candidate's skills.\n",
      "\t* The projects section is quite lengthy and could be broken down into separate sections for each project, with more concise descriptions.\n",
      "4. Suggestions to make it more compelling or job-specific:\n",
      "\t* Consider adding specific examples of projects or contributions that demonstrate the candidate's skills and achievements.\n",
      "\t* Emphasize the candidate's technical skills and expertise in frontend development, data analysis, and machine learning.\n",
      "\t* Highlight any relevant certifications, training, or courses taken to improve skills.\n",
      "\t* Consider adding a section for personal projects or contributions to open-source projects to showcase the candidate's creativity and initiative.\n"
     ]
    }
   ],
   "source": [
    "def resume_weakness(query_with_chunks):\n",
    "    query = f'''\n",
    "You are a professional resume reviewer. Based on the following resume content, identify **weaknesses**, **gaps**, or **areas of improvement** ONLY. \n",
    "\n",
    "Do NOT repeat the full summary.\n",
    "\n",
    "Instead, list:\n",
    "1. Areas that are vague, unclear, or generic.\n",
    "2. Missing or weak skills for targeted roles.\n",
    "3. Structural or formatting flaws.\n",
    "4. Suggestions to make it more compelling or job-specific.\n",
    "\n",
    "Resume:\n",
    "---------------------------------------------------\n",
    "{query_with_chunks}\n",
    "---------------------------------------------------\n",
    "'''\n",
    "    return query\n",
    "\n",
    "weakness = resume_weakness(query_with_chunks=summary_result)\n",
    "result_weakness = groq_llm(groq_api_key=groq_api_key, chunks=chunks, analyze=weakness)\n",
    "print(result_weakness)"
   ]
  },
  {
   "cell_type": "code",
   "execution_count": 94,
   "id": "ac3c34ea-0294-45b4-80c7-9a56962c9582",
   "metadata": {},
   "outputs": [
    {
     "name": "stdout",
     "output_type": "stream",
     "text": [
      "Based on the provided resume, here are some job roles that Kunal Punia can apply to on LinkedIn:\n",
      "\n",
      "1. Frontend Developer: With experience in building responsive web projects using HTML, CSS, JavaScript, and React.js, Kunal can apply for frontend developer positions.\n",
      "2. Web Developer: His skills in HTML, CSS, JavaScript, and React.js make him a strong candidate for web developer roles.\n",
      "3. UI/UX Designer: With a keen interest in frontend design patterns, Kunal can apply for UI/UX designer positions.\n",
      "4. Data Analyst: His skills in data analysis and visualization using Pandas, NumPy, Scikit-learn, Matplotlib, and Seaborn make him a strong candidate for data analyst roles.\n",
      "5. Machine Learning Engineer: His experience in machine learning and deep learning using XGBoost, Random Forest, ANN, CNN, RNN, and Transformers makes him a strong candidate for machine learning engineer positions.\n",
      "6. AI/ML Developer: With his skills in AI and machine learning using LangChain, OpenAI API, Hugging Face, FAISS, and more, Kunal can apply for AI/ML developer roles.\n",
      "7. Full-Stack Developer: His experience in building full-stack projects using Flask, MySQL, and Twilio makes him a strong candidate for full-stack developer positions.\n",
      "8. Backend Developer: His skills in Flask, MySQL, and Twilio make him a strong candidate for backend developer roles.\n",
      "\n",
      "These are just a few examples of job roles that Kunal Punia can apply to on LinkedIn based on his skills and experience.\n"
     ]
    }
   ],
   "source": [
    "def job_title_suggestion(query_with_chunks):\n",
    "\n",
    "    query = f''' what are the job roles i apply to likedin based on below?\n",
    "                  \n",
    "                  \"\"\"\"\"\"\"\"\"\"\"\"\"\"\"\"\"\"\"\"\"\"\"\"\"\"\"\"\"\"\"\"\"\"\"\"\"\"\"\"\"\"\"\"\"\"\"\"\"\"\"\"\"\"\"\"\"\"\"\"\"\"\"\"\"\"\"\"\"\"\"\n",
    "                  {query_with_chunks}\n",
    "                  \"\"\"\"\"\"\"\"\"\"\"\"\"\"\"\"\"\"\"\"\"\"\"\"\"\"\"\"\"\"\"\"\"\"\"\"\"\"\"\"\"\"\"\"\"\"\"\"\"\"\"\"\"\"\"\"\"\"\"\"\"\"\"\"\"\"\"\"\"\"\"\n",
    "                '''\n",
    "    return query\n",
    "\n",
    "suggestion = job_title_suggestion(query_with_chunks=summary_result)\n",
    "result_suggestion = groq_llm(groq_api_key=groq_api_key, chunks=chunks, analyze=suggestion)\n",
    "print(result_suggestion)"
   ]
  },
  {
   "cell_type": "code",
   "execution_count": null,
   "id": "b988030f-a236-4e48-9bff-2255c4d49411",
   "metadata": {},
   "outputs": [],
   "source": []
  }
 ],
 "metadata": {
  "kernelspec": {
   "display_name": "Python 3 (ipykernel)",
   "language": "python",
   "name": "python3"
  },
  "language_info": {
   "codemirror_mode": {
    "name": "ipython",
    "version": 3
   },
   "file_extension": ".py",
   "mimetype": "text/x-python",
   "name": "python",
   "nbconvert_exporter": "python",
   "pygments_lexer": "ipython3",
   "version": "3.12.7"
  }
 },
 "nbformat": 4,
 "nbformat_minor": 5
}
